{
 "cells": [
  {
   "cell_type": "markdown",
   "id": "092caa09",
   "metadata": {},
   "source": [
    "# MANDATE - 3 (MT2021069)"
   ]
  },
  {
   "cell_type": "markdown",
   "id": "b2cfd5fb",
   "metadata": {},
   "source": [
    "## In this mandate, I have applied Root Mapping on the Context, its Sentences and Questions and tried to match the root of question to the roots of sentences in the context and based on that tried to find the most probable answer in the context for the given question."
   ]
  },
  {
   "cell_type": "markdown",
   "id": "c732660b",
   "metadata": {},
   "source": [
    "## In the last Mandate, I had applied Unsupervised techniques on the Embedded QA Dataset using Cosine Similarity and Euclidean Distances. In this Mandate, I have tried various Supervised Algorithms to increase the Accuracy."
   ]
  },
  {
   "cell_type": "markdown",
   "id": "b7af65b3",
   "metadata": {},
   "source": [
    "## Importing Necessary Libraries and Packages :"
   ]
  },
  {
   "cell_type": "code",
   "execution_count": 14,
   "id": "c1156758",
   "metadata": {},
   "outputs": [],
   "source": [
    "import numpy as np, pandas as pd\n",
    "import ast \n",
    "from sklearn import linear_model\n",
    "from sklearn import metrics\n",
    "from sklearn.model_selection import train_test_split\n",
    "import warnings\n",
    "warnings.filterwarnings('ignore')\n",
    "import spacy\n",
    "from nltk import Tree\n",
    "en_nlp = spacy.load('en_core_web_sm')\n",
    "from nltk.stem.lancaster import LancasterStemmer\n",
    "st = LancasterStemmer()\n",
    "from sklearn.preprocessing import StandardScaler, MinMaxScaler\n",
    "from sklearn.ensemble import RandomForestClassifier\n",
    "import xgboost as xgb\n",
    "from sklearn.model_selection import RandomizedSearchCV, GridSearchCV"
   ]
  },
  {
   "cell_type": "markdown",
   "id": "442805dc",
   "metadata": {},
   "source": [
    "### Reading the csv generated in last mandate:"
   ]
  },
  {
   "cell_type": "markdown",
   "id": "5710b129",
   "metadata": {},
   "source": [
    "#### In this dataframe we have the sentence embeddings and question embeddings along with the Cosine Similarity and Euclidean distances of the question with respect to all the sentences in the context. It also includes the predicted sentence number in the context which couble be the probable answer for the question, according to the unsupervised techniques applied earlier."
   ]
  },
  {
   "cell_type": "code",
   "execution_count": 15,
   "id": "b3fc0aa8",
   "metadata": {},
   "outputs": [],
   "source": [
    "predicted = pd.read_csv(r'C:\\Users\\admin\\Downloads\\predictedNLP1.csv').reset_index(drop=True)"
   ]
  },
  {
   "cell_type": "code",
   "execution_count": 16,
   "id": "7290a3d3",
   "metadata": {},
   "outputs": [
    {
     "data": {
      "text/html": [
       "<div>\n",
       "<style scoped>\n",
       "    .dataframe tbody tr th:only-of-type {\n",
       "        vertical-align: middle;\n",
       "    }\n",
       "\n",
       "    .dataframe tbody tr th {\n",
       "        vertical-align: top;\n",
       "    }\n",
       "\n",
       "    .dataframe thead th {\n",
       "        text-align: right;\n",
       "    }\n",
       "</style>\n",
       "<table border=\"1\" class=\"dataframe\">\n",
       "  <thead>\n",
       "    <tr style=\"text-align: right;\">\n",
       "      <th></th>\n",
       "      <th>context</th>\n",
       "      <th>question</th>\n",
       "      <th>answer_start</th>\n",
       "      <th>text</th>\n",
       "      <th>sentences</th>\n",
       "      <th>target</th>\n",
       "      <th>sent_emb</th>\n",
       "      <th>quest_emb</th>\n",
       "      <th>cosine_sim</th>\n",
       "      <th>euclidean_dis</th>\n",
       "      <th>pred_idx_cos</th>\n",
       "      <th>pred_idx_euc</th>\n",
       "    </tr>\n",
       "  </thead>\n",
       "  <tbody>\n",
       "    <tr>\n",
       "      <th>0</th>\n",
       "      <td>Architecturally, the school has a Catholic cha...</td>\n",
       "      <td>To whom did the Virgin Mary allegedly appear i...</td>\n",
       "      <td>515</td>\n",
       "      <td>Saint Bernadette Soubirous</td>\n",
       "      <td>['Architecturally, the school has a Catholic c...</td>\n",
       "      <td>5</td>\n",
       "      <td>[array([-0.01541213, -0.05413497,  0.01449186,...</td>\n",
       "      <td>[[ 0.00746889  0.02421027  0.06961634 ...  0.0...</td>\n",
       "      <td>[0.7483252286911011, 0.6157153248786926, 0.616...</td>\n",
       "      <td>[8.731496, 7.767769, 8.243154, 7.9353786, 7.73...</td>\n",
       "      <td>5</td>\n",
       "      <td>5</td>\n",
       "    </tr>\n",
       "    <tr>\n",
       "      <th>1</th>\n",
       "      <td>Architecturally, the school has a Catholic cha...</td>\n",
       "      <td>What is in front of the Notre Dame Main Building?</td>\n",
       "      <td>188</td>\n",
       "      <td>a copper statue of Christ</td>\n",
       "      <td>['Architecturally, the school has a Catholic c...</td>\n",
       "      <td>2</td>\n",
       "      <td>[array([-0.01541213, -0.05413497,  0.01449186,...</td>\n",
       "      <td>[[ 0.00746889 -0.03348338  0.04054591 ... -0.0...</td>\n",
       "      <td>[0.7264537513256073, 0.5839367210865021, 0.654...</td>\n",
       "      <td>[7.0554705, 6.2977524, 7.563771, 4.9111557, 6....</td>\n",
       "      <td>3</td>\n",
       "      <td>3</td>\n",
       "    </tr>\n",
       "    <tr>\n",
       "      <th>2</th>\n",
       "      <td>Architecturally, the school has a Catholic cha...</td>\n",
       "      <td>The Basilica of the Sacred heart at Notre Dame...</td>\n",
       "      <td>279</td>\n",
       "      <td>the Main Building</td>\n",
       "      <td>['Architecturally, the school has a Catholic c...</td>\n",
       "      <td>3</td>\n",
       "      <td>[array([-0.01541213, -0.05413497,  0.01449186,...</td>\n",
       "      <td>[[ 0.00746889 -0.04394472  0.1438594  ...  0.0...</td>\n",
       "      <td>[0.6630303263664246, 0.5432414710521698, 0.575...</td>\n",
       "      <td>[6.4743433, 5.8934736, 6.712471, 4.1032743, 4....</td>\n",
       "      <td>3</td>\n",
       "      <td>3</td>\n",
       "    </tr>\n",
       "    <tr>\n",
       "      <th>3</th>\n",
       "      <td>Architecturally, the school has a Catholic cha...</td>\n",
       "      <td>What is the Grotto at Notre Dame?</td>\n",
       "      <td>381</td>\n",
       "      <td>a Marian place of prayer and reflection</td>\n",
       "      <td>['Architecturally, the school has a Catholic c...</td>\n",
       "      <td>4</td>\n",
       "      <td>[array([-0.01541213, -0.05413497,  0.01449186,...</td>\n",
       "      <td>[[ 0.00746889 -0.02113509  0.08985032 ...  0.0...</td>\n",
       "      <td>[0.7390832602977753, 0.6787103712558746, 0.749...</td>\n",
       "      <td>[7.6907616, 7.736262, 9.104893, 5.9597845, 6.1...</td>\n",
       "      <td>3</td>\n",
       "      <td>3</td>\n",
       "    </tr>\n",
       "    <tr>\n",
       "      <th>4</th>\n",
       "      <td>Architecturally, the school has a Catholic cha...</td>\n",
       "      <td>What sits on top of the Main Building at Notre...</td>\n",
       "      <td>92</td>\n",
       "      <td>a golden statue of the Virgin Mary</td>\n",
       "      <td>['Architecturally, the school has a Catholic c...</td>\n",
       "      <td>1</td>\n",
       "      <td>[array([-0.01541213, -0.05413497,  0.01449186,...</td>\n",
       "      <td>[[ 0.00746889 -0.02515129  0.08926862 ...  0.0...</td>\n",
       "      <td>[0.8073934763669968, 0.5599293112754822, 0.630...</td>\n",
       "      <td>[8.670769, 6.5675135, 7.8863955, 6.087176, 6.8...</td>\n",
       "      <td>1</td>\n",
       "      <td>3</td>\n",
       "    </tr>\n",
       "    <tr>\n",
       "      <th>...</th>\n",
       "      <td>...</td>\n",
       "      <td>...</td>\n",
       "      <td>...</td>\n",
       "      <td>...</td>\n",
       "      <td>...</td>\n",
       "      <td>...</td>\n",
       "      <td>...</td>\n",
       "      <td>...</td>\n",
       "      <td>...</td>\n",
       "      <td>...</td>\n",
       "      <td>...</td>\n",
       "      <td>...</td>\n",
       "    </tr>\n",
       "    <tr>\n",
       "      <th>87593</th>\n",
       "      <td>Kathmandu Metropolitan City (KMC), in order to...</td>\n",
       "      <td>In what US state did Kathmandu first establish...</td>\n",
       "      <td>229</td>\n",
       "      <td>Oregon</td>\n",
       "      <td>['Kathmandu Metropolitan City (KMC), in order ...</td>\n",
       "      <td>1</td>\n",
       "      <td>[array([-0.01553709, -0.07280491,  0.11549293,...</td>\n",
       "      <td>[[ 0.00746889 -0.03403048  0.06046114 ...  0.0...</td>\n",
       "      <td>[0.45670151710510254, 0.4772855043411255, 0.52...</td>\n",
       "      <td>[5.9728227, 5.8767605, 7.1701756, 7.343958]</td>\n",
       "      <td>0</td>\n",
       "      <td>1</td>\n",
       "    </tr>\n",
       "    <tr>\n",
       "      <th>87594</th>\n",
       "      <td>Kathmandu Metropolitan City (KMC), in order to...</td>\n",
       "      <td>What was Yangon previously known as?</td>\n",
       "      <td>414</td>\n",
       "      <td>Rangoon</td>\n",
       "      <td>['Kathmandu Metropolitan City (KMC), in order ...</td>\n",
       "      <td>2</td>\n",
       "      <td>[array([-0.01553709, -0.07280491,  0.11549293,...</td>\n",
       "      <td>[[ 0.00746889 -0.05823731 -0.00707996 ... -0.0...</td>\n",
       "      <td>[0.7831550389528275, 0.7901124805212021, 0.798...</td>\n",
       "      <td>[9.570372, 9.148212, 10.2699175, 11.297274]</td>\n",
       "      <td>0</td>\n",
       "      <td>1</td>\n",
       "    </tr>\n",
       "    <tr>\n",
       "      <th>87595</th>\n",
       "      <td>Kathmandu Metropolitan City (KMC), in order to...</td>\n",
       "      <td>With what Belorussian city does Kathmandu have...</td>\n",
       "      <td>476</td>\n",
       "      <td>Minsk</td>\n",
       "      <td>['Kathmandu Metropolitan City (KMC), in order ...</td>\n",
       "      <td>2</td>\n",
       "      <td>[array([-0.01553709, -0.07280491,  0.11549293,...</td>\n",
       "      <td>[[ 0.00746889 -0.05044248  0.06999452 ...  0.0...</td>\n",
       "      <td>[0.4997228980064392, 0.5831607580184937, 0.566...</td>\n",
       "      <td>[6.429439, 7.027028, 7.642034, 7.855676]</td>\n",
       "      <td>0</td>\n",
       "      <td>0</td>\n",
       "    </tr>\n",
       "    <tr>\n",
       "      <th>87596</th>\n",
       "      <td>Kathmandu Metropolitan City (KMC), in order to...</td>\n",
       "      <td>In what year did Kathmandu create its initial ...</td>\n",
       "      <td>199</td>\n",
       "      <td>1975</td>\n",
       "      <td>['Kathmandu Metropolitan City (KMC), in order ...</td>\n",
       "      <td>1</td>\n",
       "      <td>[array([-0.01553709, -0.07280491,  0.11549293,...</td>\n",
       "      <td>[[ 0.00746889 -0.03403048  0.05538648 ...  0.0...</td>\n",
       "      <td>[0.5239468514919281, 0.5166756808757782, 0.559...</td>\n",
       "      <td>[6.7326083, 6.274422, 7.5743055, 7.709353]</td>\n",
       "      <td>1</td>\n",
       "      <td>1</td>\n",
       "    </tr>\n",
       "    <tr>\n",
       "      <th>87597</th>\n",
       "      <td>Kathmandu Metropolitan City (KMC), in order to...</td>\n",
       "      <td>What is KMC an initialism of?</td>\n",
       "      <td>0</td>\n",
       "      <td>Kathmandu Metropolitan City</td>\n",
       "      <td>['Kathmandu Metropolitan City (KMC), in order ...</td>\n",
       "      <td>0</td>\n",
       "      <td>[array([-0.01553709, -0.07280491,  0.11549293,...</td>\n",
       "      <td>[[ 0.00746889 -0.05823731  0.08288754 ... -0.0...</td>\n",
       "      <td>[0.7501586973667145, 0.7403123676776886, 0.884...</td>\n",
       "      <td>[9.334919, 8.741682, 11.483012, 10.353231]</td>\n",
       "      <td>1</td>\n",
       "      <td>1</td>\n",
       "    </tr>\n",
       "  </tbody>\n",
       "</table>\n",
       "<p>87598 rows × 12 columns</p>\n",
       "</div>"
      ],
      "text/plain": [
       "                                                 context  \\\n",
       "0      Architecturally, the school has a Catholic cha...   \n",
       "1      Architecturally, the school has a Catholic cha...   \n",
       "2      Architecturally, the school has a Catholic cha...   \n",
       "3      Architecturally, the school has a Catholic cha...   \n",
       "4      Architecturally, the school has a Catholic cha...   \n",
       "...                                                  ...   \n",
       "87593  Kathmandu Metropolitan City (KMC), in order to...   \n",
       "87594  Kathmandu Metropolitan City (KMC), in order to...   \n",
       "87595  Kathmandu Metropolitan City (KMC), in order to...   \n",
       "87596  Kathmandu Metropolitan City (KMC), in order to...   \n",
       "87597  Kathmandu Metropolitan City (KMC), in order to...   \n",
       "\n",
       "                                                question  answer_start  \\\n",
       "0      To whom did the Virgin Mary allegedly appear i...           515   \n",
       "1      What is in front of the Notre Dame Main Building?           188   \n",
       "2      The Basilica of the Sacred heart at Notre Dame...           279   \n",
       "3                      What is the Grotto at Notre Dame?           381   \n",
       "4      What sits on top of the Main Building at Notre...            92   \n",
       "...                                                  ...           ...   \n",
       "87593  In what US state did Kathmandu first establish...           229   \n",
       "87594               What was Yangon previously known as?           414   \n",
       "87595  With what Belorussian city does Kathmandu have...           476   \n",
       "87596  In what year did Kathmandu create its initial ...           199   \n",
       "87597                      What is KMC an initialism of?             0   \n",
       "\n",
       "                                          text  \\\n",
       "0                   Saint Bernadette Soubirous   \n",
       "1                    a copper statue of Christ   \n",
       "2                            the Main Building   \n",
       "3      a Marian place of prayer and reflection   \n",
       "4           a golden statue of the Virgin Mary   \n",
       "...                                        ...   \n",
       "87593                                   Oregon   \n",
       "87594                                  Rangoon   \n",
       "87595                                    Minsk   \n",
       "87596                                     1975   \n",
       "87597              Kathmandu Metropolitan City   \n",
       "\n",
       "                                               sentences  target  \\\n",
       "0      ['Architecturally, the school has a Catholic c...       5   \n",
       "1      ['Architecturally, the school has a Catholic c...       2   \n",
       "2      ['Architecturally, the school has a Catholic c...       3   \n",
       "3      ['Architecturally, the school has a Catholic c...       4   \n",
       "4      ['Architecturally, the school has a Catholic c...       1   \n",
       "...                                                  ...     ...   \n",
       "87593  ['Kathmandu Metropolitan City (KMC), in order ...       1   \n",
       "87594  ['Kathmandu Metropolitan City (KMC), in order ...       2   \n",
       "87595  ['Kathmandu Metropolitan City (KMC), in order ...       2   \n",
       "87596  ['Kathmandu Metropolitan City (KMC), in order ...       1   \n",
       "87597  ['Kathmandu Metropolitan City (KMC), in order ...       0   \n",
       "\n",
       "                                                sent_emb  \\\n",
       "0      [array([-0.01541213, -0.05413497,  0.01449186,...   \n",
       "1      [array([-0.01541213, -0.05413497,  0.01449186,...   \n",
       "2      [array([-0.01541213, -0.05413497,  0.01449186,...   \n",
       "3      [array([-0.01541213, -0.05413497,  0.01449186,...   \n",
       "4      [array([-0.01541213, -0.05413497,  0.01449186,...   \n",
       "...                                                  ...   \n",
       "87593  [array([-0.01553709, -0.07280491,  0.11549293,...   \n",
       "87594  [array([-0.01553709, -0.07280491,  0.11549293,...   \n",
       "87595  [array([-0.01553709, -0.07280491,  0.11549293,...   \n",
       "87596  [array([-0.01553709, -0.07280491,  0.11549293,...   \n",
       "87597  [array([-0.01553709, -0.07280491,  0.11549293,...   \n",
       "\n",
       "                                               quest_emb  \\\n",
       "0      [[ 0.00746889  0.02421027  0.06961634 ...  0.0...   \n",
       "1      [[ 0.00746889 -0.03348338  0.04054591 ... -0.0...   \n",
       "2      [[ 0.00746889 -0.04394472  0.1438594  ...  0.0...   \n",
       "3      [[ 0.00746889 -0.02113509  0.08985032 ...  0.0...   \n",
       "4      [[ 0.00746889 -0.02515129  0.08926862 ...  0.0...   \n",
       "...                                                  ...   \n",
       "87593  [[ 0.00746889 -0.03403048  0.06046114 ...  0.0...   \n",
       "87594  [[ 0.00746889 -0.05823731 -0.00707996 ... -0.0...   \n",
       "87595  [[ 0.00746889 -0.05044248  0.06999452 ...  0.0...   \n",
       "87596  [[ 0.00746889 -0.03403048  0.05538648 ...  0.0...   \n",
       "87597  [[ 0.00746889 -0.05823731  0.08288754 ... -0.0...   \n",
       "\n",
       "                                              cosine_sim  \\\n",
       "0      [0.7483252286911011, 0.6157153248786926, 0.616...   \n",
       "1      [0.7264537513256073, 0.5839367210865021, 0.654...   \n",
       "2      [0.6630303263664246, 0.5432414710521698, 0.575...   \n",
       "3      [0.7390832602977753, 0.6787103712558746, 0.749...   \n",
       "4      [0.8073934763669968, 0.5599293112754822, 0.630...   \n",
       "...                                                  ...   \n",
       "87593  [0.45670151710510254, 0.4772855043411255, 0.52...   \n",
       "87594  [0.7831550389528275, 0.7901124805212021, 0.798...   \n",
       "87595  [0.4997228980064392, 0.5831607580184937, 0.566...   \n",
       "87596  [0.5239468514919281, 0.5166756808757782, 0.559...   \n",
       "87597  [0.7501586973667145, 0.7403123676776886, 0.884...   \n",
       "\n",
       "                                           euclidean_dis  pred_idx_cos  \\\n",
       "0      [8.731496, 7.767769, 8.243154, 7.9353786, 7.73...             5   \n",
       "1      [7.0554705, 6.2977524, 7.563771, 4.9111557, 6....             3   \n",
       "2      [6.4743433, 5.8934736, 6.712471, 4.1032743, 4....             3   \n",
       "3      [7.6907616, 7.736262, 9.104893, 5.9597845, 6.1...             3   \n",
       "4      [8.670769, 6.5675135, 7.8863955, 6.087176, 6.8...             1   \n",
       "...                                                  ...           ...   \n",
       "87593        [5.9728227, 5.8767605, 7.1701756, 7.343958]             0   \n",
       "87594        [9.570372, 9.148212, 10.2699175, 11.297274]             0   \n",
       "87595           [6.429439, 7.027028, 7.642034, 7.855676]             0   \n",
       "87596         [6.7326083, 6.274422, 7.5743055, 7.709353]             1   \n",
       "87597         [9.334919, 8.741682, 11.483012, 10.353231]             1   \n",
       "\n",
       "       pred_idx_euc  \n",
       "0                 5  \n",
       "1                 3  \n",
       "2                 3  \n",
       "3                 3  \n",
       "4                 3  \n",
       "...             ...  \n",
       "87593             1  \n",
       "87594             1  \n",
       "87595             0  \n",
       "87596             1  \n",
       "87597             1  \n",
       "\n",
       "[87598 rows x 12 columns]"
      ]
     },
     "execution_count": 16,
     "metadata": {},
     "output_type": "execute_result"
    }
   ],
   "source": [
    "predicted"
   ]
  },
  {
   "cell_type": "markdown",
   "id": "b567c66d",
   "metadata": {},
   "source": [
    "## Visualizing the root mapping :"
   ]
  },
  {
   "cell_type": "markdown",
   "id": "2a8b4413",
   "metadata": {},
   "source": [
    "### Function to form sentence root tree :"
   ]
  },
  {
   "cell_type": "code",
   "execution_count": 17,
   "id": "d62c830d",
   "metadata": {},
   "outputs": [],
   "source": [
    "def to_nltk_tree(node):\n",
    "    if node.n_lefts + node.n_rights > 0:\n",
    "        return Tree(node.orth_, [to_nltk_tree(child) for child in node.children])\n",
    "    else:\n",
    "        return node.orth_"
   ]
  },
  {
   "cell_type": "markdown",
   "id": "c8862585",
   "metadata": {},
   "source": [
    "#### Taking 1st question for demo :"
   ]
  },
  {
   "cell_type": "code",
   "execution_count": 18,
   "id": "b4668a32",
   "metadata": {},
   "outputs": [
    {
     "data": {
      "text/plain": [
       "'To whom did the Virgin Mary allegedly appear in 1858 in Lourdes France?'"
      ]
     },
     "execution_count": 18,
     "metadata": {},
     "output_type": "execute_result"
    }
   ],
   "source": [
    "predicted.iloc[0,1]"
   ]
  },
  {
   "cell_type": "markdown",
   "id": "906aec88",
   "metadata": {},
   "source": [
    "#### Generated root map tree for 1st question :"
   ]
  },
  {
   "cell_type": "code",
   "execution_count": 19,
   "id": "e87e3c17",
   "metadata": {},
   "outputs": [
    {
     "name": "stdout",
     "output_type": "stream",
     "text": [
      "                  appear                             \n",
      "  __________________|____________________________     \n",
      " |      |      |    |         |           |      in  \n",
      " |      |      |    |         |           |      |    \n",
      " |      |      |    To       Mary         in   France\n",
      " |      |      |    |      ___|_____      |      |    \n",
      "did allegedly  ?   whom  the      Virgin 1858 Lourdes\n",
      "\n"
     ]
    },
    {
     "data": {
      "text/plain": [
       "[None]"
      ]
     },
     "execution_count": 19,
     "metadata": {},
     "output_type": "execute_result"
    }
   ],
   "source": [
    "[to_nltk_tree(sent.root).pretty_print()  for sent in en_nlp(predicted.iloc[0,1]).sents]"
   ]
  },
  {
   "cell_type": "markdown",
   "id": "dbedb2d8",
   "metadata": {},
   "source": [
    "#### Similarly, performing demo on context (1st paragraph) :"
   ]
  },
  {
   "cell_type": "code",
   "execution_count": 20,
   "id": "93872805",
   "metadata": {},
   "outputs": [],
   "source": [
    "document = en_nlp(predicted.iloc[0,0])"
   ]
  },
  {
   "cell_type": "code",
   "execution_count": 21,
   "id": "a26327d0",
   "metadata": {},
   "outputs": [
    {
     "data": {
      "text/plain": [
       "'Architecturally, the school has a Catholic character. Atop the Main Building\\'s gold dome is a golden statue of the Virgin Mary. Immediately in front of the Main Building and facing it, is a copper statue of Christ with arms upraised with the legend \"Venite Ad Me Omnes\". Next to the Main Building is the Basilica of the Sacred Heart. Immediately behind the basilica is the Grotto, a Marian place of prayer and reflection. It is a replica of the grotto at Lourdes, France where the Virgin Mary reputedly appeared to Saint Bernadette Soubirous in 1858. At the end of the main drive (and in a direct line that connects through 3 statues and the Gold Dome), is a simple, modern stone statue of Mary.'"
      ]
     },
     "execution_count": 21,
     "metadata": {},
     "output_type": "execute_result"
    }
   ],
   "source": [
    "predicted.iloc[0,0]"
   ]
  },
  {
   "cell_type": "markdown",
   "id": "4af4520d",
   "metadata": {},
   "source": [
    "#### Generated Root map trees for first 5 sentences of the paragraph :"
   ]
  },
  {
   "cell_type": "code",
   "execution_count": 22,
   "id": "8dbfeca3",
   "metadata": {},
   "outputs": [
    {
     "name": "stdout",
     "output_type": "stream",
     "text": [
      "                    has                              \n",
      "        _____________|_________________               \n",
      "       |         |   |  school     character         \n",
      "       |         |   |    |      ______|________      \n",
      "Architecturally  ,   .   the    a            Catholic\n",
      "\n",
      "                          is                                  \n",
      "  ________________________|_______________                     \n",
      " |    |            |                    statue                \n",
      " |    |            |                  ____|_________           \n",
      " |    |           dome               |    |         of        \n",
      " |    |    ________|______           |    |         |          \n",
      " |    |   |            Building      |    |        Mary       \n",
      " |    |   |     __________|______    |    |      ___|_____     \n",
      "Atop  .  gold the        Main    's  a  golden the      Virgin\n",
      "\n",
      "                                                is                                                     \n",
      "      __________________________________________|________________________                               \n",
      "     |       |   |   |       |                                         statue                          \n",
      "     |       |   |   |       |                         __________________|___________                   \n",
      "     |       |   |   |       |                        |    |      |                 with               \n",
      "     |       |   |   |       |                        |    |      |                  |                  \n",
      "     |       |   |   |       |                        |    |      |                 arms               \n",
      "     |       |   |   |       |                        |    |      |                  |                  \n",
      "     |       |   |   |       |                        |    |      |               upraised             \n",
      "     |       |   |   |       |                        |    |      |                  |                  \n",
      "     |       |   |   |       in                       |    |      |                 with               \n",
      "     |       |   |   |    ___|__________________      |    |      |                  |                  \n",
      "     |       |   |   |   |       front          |     |    |      |                legend              \n",
      "     |       |   |   |   |         |            |     |    |      |       ___________|_______           \n",
      "     |       |   |   |   |         of           |     |    |      |      |                 Omnes       \n",
      "     |       |   |   |   |         |            |     |    |      |      |      _____________|_____     \n",
      "     |       |   |   |   |      Building      facing  |    |      of     |     |             |     Ad  \n",
      "     |       |   |   |   |    _____|______      |     |    |      |      |     |             |     |    \n",
      "Immediately  ,   \"   .  and the          Main   it    a  copper Christ  the    \"             Me  Venite\n",
      "\n",
      "                  is                           \n",
      "  ________________|__________                   \n",
      " |        Next            Basilica             \n",
      " |         |            _____|_______           \n",
      " |         to          |             of        \n",
      " |         |           |             |          \n",
      " |      Building       |           Heart       \n",
      " |    _____|______     |      _______|_____     \n",
      " .  the          Main the   the          Sacred\n",
      "\n",
      "                                     is                                    \n",
      "  ___________________________________|____                                  \n",
      " |                |                     Grotto                             \n",
      " |                |               ________|______                           \n",
      " |                |              |   |         place                       \n",
      " |                |              |   |     ______|__________                \n",
      " |              behind           |   |    |      |          of             \n",
      " |        ________|_______       |   |    |      |          |               \n",
      " |       |             basilica  |   |    |      |        prayer           \n",
      " |       |                |      |   |    |      |      ____|________       \n",
      " .  Immediately          the    the  ,    a    Marian and        reflection\n",
      "\n",
      "     is                                                                                       \n",
      "  ___|_________                                                                                \n",
      " |   |      replica                                                                           \n",
      " |   |    _____|__________                                                                     \n",
      " |   |   |                of                                                                  \n",
      " |   |   |                |                                                                    \n",
      " |   |   |              grotto                                                                \n",
      " |   |   |      __________|_________________                                                   \n",
      " |   |   |     |                            at                                                \n",
      " |   |   |     |                            |                                                  \n",
      " |   |   |     |                         Lourdes                                              \n",
      " |   |   |     |      ______________________|____________                                      \n",
      " |   |   |     |     |                                 France                                 \n",
      " |   |   |     |     |                                   |                                     \n",
      " |   |   |     |     |                                appeared                                \n",
      " |   |   |     |     |     ______________________________|_________________________________    \n",
      " |   |   |     |     |    |        |              |                      to                |  \n",
      " |   |   |     |     |    |        |              |                      |                 |   \n",
      " |   |   |     |     |    |        |             Mary                Soubirous             in \n",
      " |   |   |     |     |    |        |         _____|______         _______|_________        |   \n",
      " It  .   a    the    ,  where  reputedly   the         Virgin  Saint           Bernadette 1858\n",
      "\n",
      "                                                    is                                                                    \n",
      "  __________________________________________________|_______________________________________________                       \n",
      " |   |   |   |       |                              in                                              |                     \n",
      " |   |   |   |       |                              |                                               |                      \n",
      " |   |   |   |       |                             line                                             |                     \n",
      " |   |   |   |       |               _______________|______                                         |                      \n",
      " |   |   |   |       At             |    |              connects                                    |                     \n",
      " |   |   |   |       |              |    |      ___________|________                                |                      \n",
      " |   |   |   |      end             |    |     |                 through                            |                     \n",
      " |   |   |   |    ___|____          |    |     |                    |                               |                      \n",
      " |   |   |   |   |        of        |    |     |                 statues                          statue                  \n",
      " |   |   |   |   |        |         |    |     |     _______________|_________           ___________|__________________    \n",
      " |   |   |   |   |      drive       |    |     |    |      |        |        Dome       |    |      |      |      |    of \n",
      " |   |   |   |   |    ____|____     |    |     |    |      |        |      ___|____     |    |      |      |      |    |   \n",
      " (  and  ,   .  the the       main  a  direct that  3     and       )    the      Gold  a  simple   ,    modern stone Mary\n",
      "\n"
     ]
    }
   ],
   "source": [
    "[to_nltk_tree(sent.root) .pretty_print() for sent in document.sents][5]"
   ]
  },
  {
   "cell_type": "markdown",
   "id": "96e84717",
   "metadata": {},
   "source": [
    "#### Identified roots & subroots of the sentences in the first paragraph after performing stemming on it."
   ]
  },
  {
   "cell_type": "code",
   "execution_count": 23,
   "id": "c10543aa",
   "metadata": {},
   "outputs": [
    {
     "name": "stdout",
     "output_type": "stream",
     "text": [
      "['has', 'has']\n",
      "['is', 'is', 'of']\n",
      "['in', 'of', 'fac', 'is', 'of', 'with', 'with', 'legend']\n",
      "['to', 'is', 'of']\n",
      "['behind', 'is', 'grotto', 'of', 'pray']\n",
      "['is', 'is', 'of', 'at', 'lourd', 'appear', 'to']\n",
      "['at', 'of', 'in', 'connect', 'through', 'statu', 'is', 'of']\n"
     ]
    }
   ],
   "source": [
    "for sent in document.sents:\n",
    "    roots = [st.stem(chunk.root.head.text.lower()) for chunk in sent.noun_chunks]\n",
    "    print(roots)"
   ]
  },
  {
   "cell_type": "markdown",
   "id": "cf2b1bd5",
   "metadata": {},
   "source": [
    "## Function for Matching the Roots :"
   ]
  },
  {
   "cell_type": "markdown",
   "id": "4d681f74",
   "metadata": {},
   "source": [
    "### Matching the roots of question and sentences in corresponding context"
   ]
  },
  {
   "cell_type": "code",
   "execution_count": 24,
   "id": "81bd0be7",
   "metadata": {},
   "outputs": [],
   "source": [
    "def match_roots(x):\n",
    "    question = x[\"question\"].lower()\n",
    "    sentences = en_nlp(x[\"context\"].lower()).sents\n",
    "    \n",
    "    question_root = st.stem(str([sent.root for sent in en_nlp(question).sents][0]))\n",
    "    \n",
    "    li = []\n",
    "    for i,sent in enumerate(sentences):\n",
    "        roots = [st.stem(chunk.root.head.text.lower()) for chunk in sent.noun_chunks]\n",
    "\n",
    "        if question_root in roots: \n",
    "            for k,item in enumerate(ast.literal_eval(x[\"sentences\"])):\n",
    "                if str(sent) in item.lower(): \n",
    "                    li.append(k)\n",
    "    return li"
   ]
  },
  {
   "cell_type": "code",
   "execution_count": 25,
   "id": "9078cbb5",
   "metadata": {},
   "outputs": [],
   "source": [
    "predicted[\"root_match_idx\"] = predicted.apply(match_roots, axis = 1)"
   ]
  },
  {
   "cell_type": "markdown",
   "id": "51aafc5b",
   "metadata": {},
   "source": [
    "\"root_match_idx\" is a list of sentences in the context whose root matched with the root of the question."
   ]
  },
  {
   "cell_type": "code",
   "execution_count": 26,
   "id": "3cbccbd5",
   "metadata": {},
   "outputs": [],
   "source": [
    "predicted[\"root_match_idx_first\"]= predicted[\"root_match_idx\"].apply(lambda x: x[0] if len(x)>0 else 0)"
   ]
  },
  {
   "cell_type": "markdown",
   "id": "779623be",
   "metadata": {},
   "source": [
    "\"root_match_idx_first\" is the first sentence in the context whose root matched with the root of the question."
   ]
  },
  {
   "cell_type": "code",
   "execution_count": 28,
   "id": "de540bb1",
   "metadata": {},
   "outputs": [
    {
     "data": {
      "text/html": [
       "<div>\n",
       "<style scoped>\n",
       "    .dataframe tbody tr th:only-of-type {\n",
       "        vertical-align: middle;\n",
       "    }\n",
       "\n",
       "    .dataframe tbody tr th {\n",
       "        vertical-align: top;\n",
       "    }\n",
       "\n",
       "    .dataframe thead th {\n",
       "        text-align: right;\n",
       "    }\n",
       "</style>\n",
       "<table border=\"1\" class=\"dataframe\">\n",
       "  <thead>\n",
       "    <tr style=\"text-align: right;\">\n",
       "      <th></th>\n",
       "      <th>context</th>\n",
       "      <th>question</th>\n",
       "      <th>answer_start</th>\n",
       "      <th>text</th>\n",
       "      <th>sentences</th>\n",
       "      <th>target</th>\n",
       "      <th>sent_emb</th>\n",
       "      <th>quest_emb</th>\n",
       "      <th>cosine_sim</th>\n",
       "      <th>euclidean_dis</th>\n",
       "      <th>pred_idx_cos</th>\n",
       "      <th>pred_idx_euc</th>\n",
       "      <th>root_match_idx</th>\n",
       "      <th>root_match_idx_first</th>\n",
       "    </tr>\n",
       "  </thead>\n",
       "  <tbody>\n",
       "    <tr>\n",
       "      <th>0</th>\n",
       "      <td>Architecturally, the school has a Catholic cha...</td>\n",
       "      <td>To whom did the Virgin Mary allegedly appear i...</td>\n",
       "      <td>515</td>\n",
       "      <td>Saint Bernadette Soubirous</td>\n",
       "      <td>['Architecturally, the school has a Catholic c...</td>\n",
       "      <td>5</td>\n",
       "      <td>[array([-0.01541213, -0.05413497,  0.01449186,...</td>\n",
       "      <td>[[ 0.00746889  0.02421027  0.06961634 ...  0.0...</td>\n",
       "      <td>[0.7483252286911011, 0.6157153248786926, 0.616...</td>\n",
       "      <td>[8.731496, 7.767769, 8.243154, 7.9353786, 7.73...</td>\n",
       "      <td>5</td>\n",
       "      <td>5</td>\n",
       "      <td>[5]</td>\n",
       "      <td>5</td>\n",
       "    </tr>\n",
       "    <tr>\n",
       "      <th>1</th>\n",
       "      <td>Architecturally, the school has a Catholic cha...</td>\n",
       "      <td>What is in front of the Notre Dame Main Building?</td>\n",
       "      <td>188</td>\n",
       "      <td>a copper statue of Christ</td>\n",
       "      <td>['Architecturally, the school has a Catholic c...</td>\n",
       "      <td>2</td>\n",
       "      <td>[array([-0.01541213, -0.05413497,  0.01449186,...</td>\n",
       "      <td>[[ 0.00746889 -0.03348338  0.04054591 ... -0.0...</td>\n",
       "      <td>[0.7264537513256073, 0.5839367210865021, 0.654...</td>\n",
       "      <td>[7.0554705, 6.2977524, 7.563771, 4.9111557, 6....</td>\n",
       "      <td>3</td>\n",
       "      <td>3</td>\n",
       "      <td>[1, 2, 3, 4, 5, 6]</td>\n",
       "      <td>1</td>\n",
       "    </tr>\n",
       "    <tr>\n",
       "      <th>2</th>\n",
       "      <td>Architecturally, the school has a Catholic cha...</td>\n",
       "      <td>The Basilica of the Sacred heart at Notre Dame...</td>\n",
       "      <td>279</td>\n",
       "      <td>the Main Building</td>\n",
       "      <td>['Architecturally, the school has a Catholic c...</td>\n",
       "      <td>3</td>\n",
       "      <td>[array([-0.01541213, -0.05413497,  0.01449186,...</td>\n",
       "      <td>[[ 0.00746889 -0.04394472  0.1438594  ...  0.0...</td>\n",
       "      <td>[0.6630303263664246, 0.5432414710521698, 0.575...</td>\n",
       "      <td>[6.4743433, 5.8934736, 6.712471, 4.1032743, 4....</td>\n",
       "      <td>3</td>\n",
       "      <td>3</td>\n",
       "      <td>[1, 2, 3, 4, 5, 6]</td>\n",
       "      <td>1</td>\n",
       "    </tr>\n",
       "    <tr>\n",
       "      <th>3</th>\n",
       "      <td>Architecturally, the school has a Catholic cha...</td>\n",
       "      <td>What is the Grotto at Notre Dame?</td>\n",
       "      <td>381</td>\n",
       "      <td>a Marian place of prayer and reflection</td>\n",
       "      <td>['Architecturally, the school has a Catholic c...</td>\n",
       "      <td>4</td>\n",
       "      <td>[array([-0.01541213, -0.05413497,  0.01449186,...</td>\n",
       "      <td>[[ 0.00746889 -0.02113509  0.08985032 ...  0.0...</td>\n",
       "      <td>[0.7390832602977753, 0.6787103712558746, 0.749...</td>\n",
       "      <td>[7.6907616, 7.736262, 9.104893, 5.9597845, 6.1...</td>\n",
       "      <td>3</td>\n",
       "      <td>3</td>\n",
       "      <td>[1, 2, 3, 4, 5, 6]</td>\n",
       "      <td>1</td>\n",
       "    </tr>\n",
       "    <tr>\n",
       "      <th>4</th>\n",
       "      <td>Architecturally, the school has a Catholic cha...</td>\n",
       "      <td>What sits on top of the Main Building at Notre...</td>\n",
       "      <td>92</td>\n",
       "      <td>a golden statue of the Virgin Mary</td>\n",
       "      <td>['Architecturally, the school has a Catholic c...</td>\n",
       "      <td>1</td>\n",
       "      <td>[array([-0.01541213, -0.05413497,  0.01449186,...</td>\n",
       "      <td>[[ 0.00746889 -0.02515129  0.08926862 ...  0.0...</td>\n",
       "      <td>[0.8073934763669968, 0.5599293112754822, 0.630...</td>\n",
       "      <td>[8.670769, 6.5675135, 7.8863955, 6.087176, 6.8...</td>\n",
       "      <td>1</td>\n",
       "      <td>3</td>\n",
       "      <td>[]</td>\n",
       "      <td>0</td>\n",
       "    </tr>\n",
       "    <tr>\n",
       "      <th>...</th>\n",
       "      <td>...</td>\n",
       "      <td>...</td>\n",
       "      <td>...</td>\n",
       "      <td>...</td>\n",
       "      <td>...</td>\n",
       "      <td>...</td>\n",
       "      <td>...</td>\n",
       "      <td>...</td>\n",
       "      <td>...</td>\n",
       "      <td>...</td>\n",
       "      <td>...</td>\n",
       "      <td>...</td>\n",
       "      <td>...</td>\n",
       "      <td>...</td>\n",
       "    </tr>\n",
       "    <tr>\n",
       "      <th>87593</th>\n",
       "      <td>Kathmandu Metropolitan City (KMC), in order to...</td>\n",
       "      <td>In what US state did Kathmandu first establish...</td>\n",
       "      <td>229</td>\n",
       "      <td>Oregon</td>\n",
       "      <td>['Kathmandu Metropolitan City (KMC), in order ...</td>\n",
       "      <td>1</td>\n",
       "      <td>[array([-0.01553709, -0.07280491,  0.11549293,...</td>\n",
       "      <td>[[ 0.00746889 -0.03403048  0.06046114 ...  0.0...</td>\n",
       "      <td>[0.45670151710510254, 0.4772855043411255, 0.52...</td>\n",
       "      <td>[5.9728227, 5.8767605, 7.1701756, 7.343958]</td>\n",
       "      <td>0</td>\n",
       "      <td>1</td>\n",
       "      <td>[0, 1, 2]</td>\n",
       "      <td>0</td>\n",
       "    </tr>\n",
       "    <tr>\n",
       "      <th>87594</th>\n",
       "      <td>Kathmandu Metropolitan City (KMC), in order to...</td>\n",
       "      <td>What was Yangon previously known as?</td>\n",
       "      <td>414</td>\n",
       "      <td>Rangoon</td>\n",
       "      <td>['Kathmandu Metropolitan City (KMC), in order ...</td>\n",
       "      <td>2</td>\n",
       "      <td>[array([-0.01553709, -0.07280491,  0.11549293,...</td>\n",
       "      <td>[[ 0.00746889 -0.05823731 -0.00707996 ... -0.0...</td>\n",
       "      <td>[0.7831550389528275, 0.7901124805212021, 0.798...</td>\n",
       "      <td>[9.570372, 9.148212, 10.2699175, 11.297274]</td>\n",
       "      <td>0</td>\n",
       "      <td>1</td>\n",
       "      <td>[]</td>\n",
       "      <td>0</td>\n",
       "    </tr>\n",
       "    <tr>\n",
       "      <th>87595</th>\n",
       "      <td>Kathmandu Metropolitan City (KMC), in order to...</td>\n",
       "      <td>With what Belorussian city does Kathmandu have...</td>\n",
       "      <td>476</td>\n",
       "      <td>Minsk</td>\n",
       "      <td>['Kathmandu Metropolitan City (KMC), in order ...</td>\n",
       "      <td>2</td>\n",
       "      <td>[array([-0.01553709, -0.07280491,  0.11549293,...</td>\n",
       "      <td>[[ 0.00746889 -0.05044248  0.06999452 ...  0.0...</td>\n",
       "      <td>[0.4997228980064392, 0.5831607580184937, 0.566...</td>\n",
       "      <td>[6.429439, 7.027028, 7.642034, 7.855676]</td>\n",
       "      <td>0</td>\n",
       "      <td>0</td>\n",
       "      <td>[]</td>\n",
       "      <td>0</td>\n",
       "    </tr>\n",
       "    <tr>\n",
       "      <th>87596</th>\n",
       "      <td>Kathmandu Metropolitan City (KMC), in order to...</td>\n",
       "      <td>In what year did Kathmandu create its initial ...</td>\n",
       "      <td>199</td>\n",
       "      <td>1975</td>\n",
       "      <td>['Kathmandu Metropolitan City (KMC), in order ...</td>\n",
       "      <td>1</td>\n",
       "      <td>[array([-0.01553709, -0.07280491,  0.11549293,...</td>\n",
       "      <td>[[ 0.00746889 -0.03403048  0.05538648 ...  0.0...</td>\n",
       "      <td>[0.5239468514919281, 0.5166756808757782, 0.559...</td>\n",
       "      <td>[6.7326083, 6.274422, 7.5743055, 7.709353]</td>\n",
       "      <td>1</td>\n",
       "      <td>1</td>\n",
       "      <td>[]</td>\n",
       "      <td>0</td>\n",
       "    </tr>\n",
       "    <tr>\n",
       "      <th>87597</th>\n",
       "      <td>Kathmandu Metropolitan City (KMC), in order to...</td>\n",
       "      <td>What is KMC an initialism of?</td>\n",
       "      <td>0</td>\n",
       "      <td>Kathmandu Metropolitan City</td>\n",
       "      <td>['Kathmandu Metropolitan City (KMC), in order ...</td>\n",
       "      <td>0</td>\n",
       "      <td>[array([-0.01553709, -0.07280491,  0.11549293,...</td>\n",
       "      <td>[[ 0.00746889 -0.05823731  0.08288754 ... -0.0...</td>\n",
       "      <td>[0.7501586973667145, 0.7403123676776886, 0.884...</td>\n",
       "      <td>[9.334919, 8.741682, 11.483012, 10.353231]</td>\n",
       "      <td>1</td>\n",
       "      <td>1</td>\n",
       "      <td>[3]</td>\n",
       "      <td>3</td>\n",
       "    </tr>\n",
       "  </tbody>\n",
       "</table>\n",
       "<p>87598 rows × 14 columns</p>\n",
       "</div>"
      ],
      "text/plain": [
       "                                                 context  \\\n",
       "0      Architecturally, the school has a Catholic cha...   \n",
       "1      Architecturally, the school has a Catholic cha...   \n",
       "2      Architecturally, the school has a Catholic cha...   \n",
       "3      Architecturally, the school has a Catholic cha...   \n",
       "4      Architecturally, the school has a Catholic cha...   \n",
       "...                                                  ...   \n",
       "87593  Kathmandu Metropolitan City (KMC), in order to...   \n",
       "87594  Kathmandu Metropolitan City (KMC), in order to...   \n",
       "87595  Kathmandu Metropolitan City (KMC), in order to...   \n",
       "87596  Kathmandu Metropolitan City (KMC), in order to...   \n",
       "87597  Kathmandu Metropolitan City (KMC), in order to...   \n",
       "\n",
       "                                                question  answer_start  \\\n",
       "0      To whom did the Virgin Mary allegedly appear i...           515   \n",
       "1      What is in front of the Notre Dame Main Building?           188   \n",
       "2      The Basilica of the Sacred heart at Notre Dame...           279   \n",
       "3                      What is the Grotto at Notre Dame?           381   \n",
       "4      What sits on top of the Main Building at Notre...            92   \n",
       "...                                                  ...           ...   \n",
       "87593  In what US state did Kathmandu first establish...           229   \n",
       "87594               What was Yangon previously known as?           414   \n",
       "87595  With what Belorussian city does Kathmandu have...           476   \n",
       "87596  In what year did Kathmandu create its initial ...           199   \n",
       "87597                      What is KMC an initialism of?             0   \n",
       "\n",
       "                                          text  \\\n",
       "0                   Saint Bernadette Soubirous   \n",
       "1                    a copper statue of Christ   \n",
       "2                            the Main Building   \n",
       "3      a Marian place of prayer and reflection   \n",
       "4           a golden statue of the Virgin Mary   \n",
       "...                                        ...   \n",
       "87593                                   Oregon   \n",
       "87594                                  Rangoon   \n",
       "87595                                    Minsk   \n",
       "87596                                     1975   \n",
       "87597              Kathmandu Metropolitan City   \n",
       "\n",
       "                                               sentences  target  \\\n",
       "0      ['Architecturally, the school has a Catholic c...       5   \n",
       "1      ['Architecturally, the school has a Catholic c...       2   \n",
       "2      ['Architecturally, the school has a Catholic c...       3   \n",
       "3      ['Architecturally, the school has a Catholic c...       4   \n",
       "4      ['Architecturally, the school has a Catholic c...       1   \n",
       "...                                                  ...     ...   \n",
       "87593  ['Kathmandu Metropolitan City (KMC), in order ...       1   \n",
       "87594  ['Kathmandu Metropolitan City (KMC), in order ...       2   \n",
       "87595  ['Kathmandu Metropolitan City (KMC), in order ...       2   \n",
       "87596  ['Kathmandu Metropolitan City (KMC), in order ...       1   \n",
       "87597  ['Kathmandu Metropolitan City (KMC), in order ...       0   \n",
       "\n",
       "                                                sent_emb  \\\n",
       "0      [array([-0.01541213, -0.05413497,  0.01449186,...   \n",
       "1      [array([-0.01541213, -0.05413497,  0.01449186,...   \n",
       "2      [array([-0.01541213, -0.05413497,  0.01449186,...   \n",
       "3      [array([-0.01541213, -0.05413497,  0.01449186,...   \n",
       "4      [array([-0.01541213, -0.05413497,  0.01449186,...   \n",
       "...                                                  ...   \n",
       "87593  [array([-0.01553709, -0.07280491,  0.11549293,...   \n",
       "87594  [array([-0.01553709, -0.07280491,  0.11549293,...   \n",
       "87595  [array([-0.01553709, -0.07280491,  0.11549293,...   \n",
       "87596  [array([-0.01553709, -0.07280491,  0.11549293,...   \n",
       "87597  [array([-0.01553709, -0.07280491,  0.11549293,...   \n",
       "\n",
       "                                               quest_emb  \\\n",
       "0      [[ 0.00746889  0.02421027  0.06961634 ...  0.0...   \n",
       "1      [[ 0.00746889 -0.03348338  0.04054591 ... -0.0...   \n",
       "2      [[ 0.00746889 -0.04394472  0.1438594  ...  0.0...   \n",
       "3      [[ 0.00746889 -0.02113509  0.08985032 ...  0.0...   \n",
       "4      [[ 0.00746889 -0.02515129  0.08926862 ...  0.0...   \n",
       "...                                                  ...   \n",
       "87593  [[ 0.00746889 -0.03403048  0.06046114 ...  0.0...   \n",
       "87594  [[ 0.00746889 -0.05823731 -0.00707996 ... -0.0...   \n",
       "87595  [[ 0.00746889 -0.05044248  0.06999452 ...  0.0...   \n",
       "87596  [[ 0.00746889 -0.03403048  0.05538648 ...  0.0...   \n",
       "87597  [[ 0.00746889 -0.05823731  0.08288754 ... -0.0...   \n",
       "\n",
       "                                              cosine_sim  \\\n",
       "0      [0.7483252286911011, 0.6157153248786926, 0.616...   \n",
       "1      [0.7264537513256073, 0.5839367210865021, 0.654...   \n",
       "2      [0.6630303263664246, 0.5432414710521698, 0.575...   \n",
       "3      [0.7390832602977753, 0.6787103712558746, 0.749...   \n",
       "4      [0.8073934763669968, 0.5599293112754822, 0.630...   \n",
       "...                                                  ...   \n",
       "87593  [0.45670151710510254, 0.4772855043411255, 0.52...   \n",
       "87594  [0.7831550389528275, 0.7901124805212021, 0.798...   \n",
       "87595  [0.4997228980064392, 0.5831607580184937, 0.566...   \n",
       "87596  [0.5239468514919281, 0.5166756808757782, 0.559...   \n",
       "87597  [0.7501586973667145, 0.7403123676776886, 0.884...   \n",
       "\n",
       "                                           euclidean_dis  pred_idx_cos  \\\n",
       "0      [8.731496, 7.767769, 8.243154, 7.9353786, 7.73...             5   \n",
       "1      [7.0554705, 6.2977524, 7.563771, 4.9111557, 6....             3   \n",
       "2      [6.4743433, 5.8934736, 6.712471, 4.1032743, 4....             3   \n",
       "3      [7.6907616, 7.736262, 9.104893, 5.9597845, 6.1...             3   \n",
       "4      [8.670769, 6.5675135, 7.8863955, 6.087176, 6.8...             1   \n",
       "...                                                  ...           ...   \n",
       "87593        [5.9728227, 5.8767605, 7.1701756, 7.343958]             0   \n",
       "87594        [9.570372, 9.148212, 10.2699175, 11.297274]             0   \n",
       "87595           [6.429439, 7.027028, 7.642034, 7.855676]             0   \n",
       "87596         [6.7326083, 6.274422, 7.5743055, 7.709353]             1   \n",
       "87597         [9.334919, 8.741682, 11.483012, 10.353231]             1   \n",
       "\n",
       "       pred_idx_euc      root_match_idx  root_match_idx_first  \n",
       "0                 5                 [5]                     5  \n",
       "1                 3  [1, 2, 3, 4, 5, 6]                     1  \n",
       "2                 3  [1, 2, 3, 4, 5, 6]                     1  \n",
       "3                 3  [1, 2, 3, 4, 5, 6]                     1  \n",
       "4                 3                  []                     0  \n",
       "...             ...                 ...                   ...  \n",
       "87593             1           [0, 1, 2]                     0  \n",
       "87594             1                  []                     0  \n",
       "87595             0                  []                     0  \n",
       "87596             1                  []                     0  \n",
       "87597             1                 [3]                     3  \n",
       "\n",
       "[87598 rows x 14 columns]"
      ]
     },
     "execution_count": 28,
     "metadata": {},
     "output_type": "execute_result"
    }
   ],
   "source": [
    "predicted"
   ]
  },
  {
   "cell_type": "code",
   "execution_count": 30,
   "id": "d96e77a3",
   "metadata": {},
   "outputs": [],
   "source": [
    "predicted.to_csv(r'C:\\Users\\Admin\\Downloads\\predictedNLP2.csv', index=False)"
   ]
  },
  {
   "cell_type": "markdown",
   "id": "5c7c2baa",
   "metadata": {},
   "source": [
    "## This root match technique was just implemented for experimenting and trying to find any new results. As the above table shows, in the root_match_idx column the list of sentences that have the same roots as the question, includes the answer predicted using cosine and Euclidean distances."
   ]
  },
  {
   "cell_type": "markdown",
   "id": "6af867e9",
   "metadata": {},
   "source": [
    "## But for many questions in the table, it is unable to find the same roots in the sentences of the context. So, I personally didn't found this approach more effective than cosine similarity technique."
   ]
  },
  {
   "cell_type": "markdown",
   "id": "36eccc0b",
   "metadata": {},
   "source": [
    "# Applying Supervised Algorithms :"
   ]
  },
  {
   "cell_type": "markdown",
   "id": "e613fdbe",
   "metadata": {},
   "source": [
    "## Importing Necessary Libraries :"
   ]
  },
  {
   "cell_type": "code",
   "execution_count": 31,
   "id": "582e5a3b",
   "metadata": {},
   "outputs": [],
   "source": [
    "import numpy as np, pandas as pd\n",
    "import ast \n",
    "from sklearn import linear_model\n",
    "from sklearn import metrics\n",
    "from sklearn.model_selection import train_test_split\n",
    "import warnings\n",
    "warnings.filterwarnings('ignore')\n",
    "import spacy\n",
    "from nltk import Tree\n",
    "en_nlp = spacy.load('en_core_web_sm')\n",
    "from nltk.stem.lancaster import LancasterStemmer\n",
    "st = LancasterStemmer()\n",
    "from sklearn.preprocessing import StandardScaler, MinMaxScaler\n",
    "from sklearn.ensemble import RandomForestClassifier\n",
    "import xgboost as xgb\n",
    "from sklearn.model_selection import RandomizedSearchCV, GridSearchCV"
   ]
  },
  {
   "cell_type": "markdown",
   "id": "a654f30d",
   "metadata": {},
   "source": [
    "### Reading previously generated .csv :"
   ]
  },
  {
   "cell_type": "code",
   "execution_count": 32,
   "id": "5fdc64a0",
   "metadata": {},
   "outputs": [],
   "source": [
    "data = pd.read_csv(r'C:\\Users\\admin\\Downloads\\predictedNLP2.csv').reset_index(drop=True)"
   ]
  },
  {
   "cell_type": "code",
   "execution_count": 33,
   "id": "728f8999",
   "metadata": {},
   "outputs": [
    {
     "data": {
      "text/plain": [
       "(87598, 14)"
      ]
     },
     "execution_count": 33,
     "metadata": {},
     "output_type": "execute_result"
    }
   ],
   "source": [
    "data.shape"
   ]
  },
  {
   "cell_type": "code",
   "execution_count": 34,
   "id": "18e3d1d1",
   "metadata": {},
   "outputs": [
    {
     "data": {
      "text/html": [
       "<div>\n",
       "<style scoped>\n",
       "    .dataframe tbody tr th:only-of-type {\n",
       "        vertical-align: middle;\n",
       "    }\n",
       "\n",
       "    .dataframe tbody tr th {\n",
       "        vertical-align: top;\n",
       "    }\n",
       "\n",
       "    .dataframe thead th {\n",
       "        text-align: right;\n",
       "    }\n",
       "</style>\n",
       "<table border=\"1\" class=\"dataframe\">\n",
       "  <thead>\n",
       "    <tr style=\"text-align: right;\">\n",
       "      <th></th>\n",
       "      <th>context</th>\n",
       "      <th>question</th>\n",
       "      <th>answer_start</th>\n",
       "      <th>text</th>\n",
       "      <th>sentences</th>\n",
       "      <th>target</th>\n",
       "      <th>sent_emb</th>\n",
       "      <th>quest_emb</th>\n",
       "      <th>cosine_sim</th>\n",
       "      <th>euclidean_dis</th>\n",
       "      <th>pred_idx_cos</th>\n",
       "      <th>pred_idx_euc</th>\n",
       "      <th>root_match_idx</th>\n",
       "      <th>root_match_idx_first</th>\n",
       "    </tr>\n",
       "  </thead>\n",
       "  <tbody>\n",
       "    <tr>\n",
       "      <th>0</th>\n",
       "      <td>Architecturally, the school has a Catholic cha...</td>\n",
       "      <td>To whom did the Virgin Mary allegedly appear i...</td>\n",
       "      <td>515</td>\n",
       "      <td>Saint Bernadette Soubirous</td>\n",
       "      <td>['Architecturally, the school has a Catholic c...</td>\n",
       "      <td>5</td>\n",
       "      <td>[array([-0.01541213, -0.05413497,  0.01449186,...</td>\n",
       "      <td>[[ 0.00746889  0.02421027  0.06961634 ...  0.0...</td>\n",
       "      <td>[0.7483252286911011, 0.6157153248786926, 0.616...</td>\n",
       "      <td>[8.731496, 7.767769, 8.243154, 7.9353786, 7.73...</td>\n",
       "      <td>5</td>\n",
       "      <td>5</td>\n",
       "      <td>[5]</td>\n",
       "      <td>5</td>\n",
       "    </tr>\n",
       "    <tr>\n",
       "      <th>1</th>\n",
       "      <td>Architecturally, the school has a Catholic cha...</td>\n",
       "      <td>What is in front of the Notre Dame Main Building?</td>\n",
       "      <td>188</td>\n",
       "      <td>a copper statue of Christ</td>\n",
       "      <td>['Architecturally, the school has a Catholic c...</td>\n",
       "      <td>2</td>\n",
       "      <td>[array([-0.01541213, -0.05413497,  0.01449186,...</td>\n",
       "      <td>[[ 0.00746889 -0.03348338  0.04054591 ... -0.0...</td>\n",
       "      <td>[0.7264537513256073, 0.5839367210865021, 0.654...</td>\n",
       "      <td>[7.0554705, 6.2977524, 7.563771, 4.9111557, 6....</td>\n",
       "      <td>3</td>\n",
       "      <td>3</td>\n",
       "      <td>[1, 2, 3, 4, 5, 6]</td>\n",
       "      <td>1</td>\n",
       "    </tr>\n",
       "    <tr>\n",
       "      <th>2</th>\n",
       "      <td>Architecturally, the school has a Catholic cha...</td>\n",
       "      <td>The Basilica of the Sacred heart at Notre Dame...</td>\n",
       "      <td>279</td>\n",
       "      <td>the Main Building</td>\n",
       "      <td>['Architecturally, the school has a Catholic c...</td>\n",
       "      <td>3</td>\n",
       "      <td>[array([-0.01541213, -0.05413497,  0.01449186,...</td>\n",
       "      <td>[[ 0.00746889 -0.04394472  0.1438594  ...  0.0...</td>\n",
       "      <td>[0.6630303263664246, 0.5432414710521698, 0.575...</td>\n",
       "      <td>[6.4743433, 5.8934736, 6.712471, 4.1032743, 4....</td>\n",
       "      <td>3</td>\n",
       "      <td>3</td>\n",
       "      <td>[1, 2, 3, 4, 5, 6]</td>\n",
       "      <td>1</td>\n",
       "    </tr>\n",
       "  </tbody>\n",
       "</table>\n",
       "</div>"
      ],
      "text/plain": [
       "                                             context  \\\n",
       "0  Architecturally, the school has a Catholic cha...   \n",
       "1  Architecturally, the school has a Catholic cha...   \n",
       "2  Architecturally, the school has a Catholic cha...   \n",
       "\n",
       "                                            question  answer_start  \\\n",
       "0  To whom did the Virgin Mary allegedly appear i...           515   \n",
       "1  What is in front of the Notre Dame Main Building?           188   \n",
       "2  The Basilica of the Sacred heart at Notre Dame...           279   \n",
       "\n",
       "                         text  \\\n",
       "0  Saint Bernadette Soubirous   \n",
       "1   a copper statue of Christ   \n",
       "2           the Main Building   \n",
       "\n",
       "                                           sentences  target  \\\n",
       "0  ['Architecturally, the school has a Catholic c...       5   \n",
       "1  ['Architecturally, the school has a Catholic c...       2   \n",
       "2  ['Architecturally, the school has a Catholic c...       3   \n",
       "\n",
       "                                            sent_emb  \\\n",
       "0  [array([-0.01541213, -0.05413497,  0.01449186,...   \n",
       "1  [array([-0.01541213, -0.05413497,  0.01449186,...   \n",
       "2  [array([-0.01541213, -0.05413497,  0.01449186,...   \n",
       "\n",
       "                                           quest_emb  \\\n",
       "0  [[ 0.00746889  0.02421027  0.06961634 ...  0.0...   \n",
       "1  [[ 0.00746889 -0.03348338  0.04054591 ... -0.0...   \n",
       "2  [[ 0.00746889 -0.04394472  0.1438594  ...  0.0...   \n",
       "\n",
       "                                          cosine_sim  \\\n",
       "0  [0.7483252286911011, 0.6157153248786926, 0.616...   \n",
       "1  [0.7264537513256073, 0.5839367210865021, 0.654...   \n",
       "2  [0.6630303263664246, 0.5432414710521698, 0.575...   \n",
       "\n",
       "                                       euclidean_dis  pred_idx_cos  \\\n",
       "0  [8.731496, 7.767769, 8.243154, 7.9353786, 7.73...             5   \n",
       "1  [7.0554705, 6.2977524, 7.563771, 4.9111557, 6....             3   \n",
       "2  [6.4743433, 5.8934736, 6.712471, 4.1032743, 4....             3   \n",
       "\n",
       "   pred_idx_euc      root_match_idx  root_match_idx_first  \n",
       "0             5                 [5]                     5  \n",
       "1             3  [1, 2, 3, 4, 5, 6]                     1  \n",
       "2             3  [1, 2, 3, 4, 5, 6]                     1  "
      ]
     },
     "execution_count": 34,
     "metadata": {},
     "output_type": "execute_result"
    }
   ],
   "source": [
    "data.head(3)"
   ]
  },
  {
   "cell_type": "markdown",
   "id": "d36914ad",
   "metadata": {},
   "source": [
    "### Restricting the paragraph (context) length to 10 sentences only, to maintain uniformity :"
   ]
  },
  {
   "cell_type": "code",
   "execution_count": 35,
   "id": "081d7984",
   "metadata": {},
   "outputs": [],
   "source": [
    "data = data[data[\"sentences\"].apply(lambda x: len(ast.literal_eval(x)))<11].reset_index(drop=True)"
   ]
  },
  {
   "cell_type": "markdown",
   "id": "fb9407d2",
   "metadata": {},
   "source": [
    "## Creating a dataframe consisting of only Euclidean Distances, Cosine Similarities and target (Target line in paragraph which should be the answer) :"
   ]
  },
  {
   "cell_type": "code",
   "execution_count": 36,
   "id": "faac9382",
   "metadata": {},
   "outputs": [],
   "source": [
    "def create_features(data):\n",
    "    train = pd.DataFrame()\n",
    "     \n",
    "    for k in range(len(data[\"euclidean_dis\"])):\n",
    "        dis = ast.literal_eval(data[\"euclidean_dis\"][k])\n",
    "        for i in range(len(dis)):\n",
    "            train.loc[k, \"column_euc_\"+\"%s\"%i] = dis[i]\n",
    "    \n",
    "    print(\"Finished\")\n",
    "    \n",
    "    for k in range(len(data[\"cosine_sim\"])):\n",
    "        dis = ast.literal_eval(data[\"cosine_sim\"][k].replace(\"nan\",\"1\"))\n",
    "        for i in range(len(dis)):\n",
    "            train.loc[k, \"column_cos_\"+\"%s\"%i] = dis[i]\n",
    "            \n",
    "    train[\"target\"] = data[\"target\"]\n",
    "    return train"
   ]
  },
  {
   "cell_type": "code",
   "execution_count": 37,
   "id": "d3f16f50",
   "metadata": {},
   "outputs": [
    {
     "name": "stdout",
     "output_type": "stream",
     "text": [
      "Finished\n"
     ]
    }
   ],
   "source": [
    "train = create_features(data)"
   ]
  },
  {
   "cell_type": "code",
   "execution_count": 38,
   "id": "39acf6f4",
   "metadata": {},
   "outputs": [
    {
     "data": {
      "text/html": [
       "<div>\n",
       "<style scoped>\n",
       "    .dataframe tbody tr th:only-of-type {\n",
       "        vertical-align: middle;\n",
       "    }\n",
       "\n",
       "    .dataframe tbody tr th {\n",
       "        vertical-align: top;\n",
       "    }\n",
       "\n",
       "    .dataframe thead th {\n",
       "        text-align: right;\n",
       "    }\n",
       "</style>\n",
       "<table border=\"1\" class=\"dataframe\">\n",
       "  <thead>\n",
       "    <tr style=\"text-align: right;\">\n",
       "      <th></th>\n",
       "      <th>column_euc_0</th>\n",
       "      <th>column_euc_1</th>\n",
       "      <th>column_euc_2</th>\n",
       "      <th>column_euc_3</th>\n",
       "      <th>column_euc_4</th>\n",
       "      <th>column_euc_5</th>\n",
       "      <th>column_euc_6</th>\n",
       "      <th>column_euc_7</th>\n",
       "      <th>column_euc_8</th>\n",
       "      <th>column_euc_9</th>\n",
       "      <th>...</th>\n",
       "      <th>column_cos_1</th>\n",
       "      <th>column_cos_2</th>\n",
       "      <th>column_cos_3</th>\n",
       "      <th>column_cos_4</th>\n",
       "      <th>column_cos_5</th>\n",
       "      <th>column_cos_6</th>\n",
       "      <th>column_cos_7</th>\n",
       "      <th>column_cos_8</th>\n",
       "      <th>column_cos_9</th>\n",
       "      <th>target</th>\n",
       "    </tr>\n",
       "  </thead>\n",
       "  <tbody>\n",
       "    <tr>\n",
       "      <th>0</th>\n",
       "      <td>8.731496</td>\n",
       "      <td>7.767769</td>\n",
       "      <td>8.243154</td>\n",
       "      <td>7.935379</td>\n",
       "      <td>7.735842</td>\n",
       "      <td>4.640070</td>\n",
       "      <td>8.041734</td>\n",
       "      <td>NaN</td>\n",
       "      <td>NaN</td>\n",
       "      <td>NaN</td>\n",
       "      <td>...</td>\n",
       "      <td>0.615715</td>\n",
       "      <td>0.616862</td>\n",
       "      <td>0.676589</td>\n",
       "      <td>0.675969</td>\n",
       "      <td>0.317759</td>\n",
       "      <td>0.614743</td>\n",
       "      <td>NaN</td>\n",
       "      <td>NaN</td>\n",
       "      <td>NaN</td>\n",
       "      <td>5</td>\n",
       "    </tr>\n",
       "    <tr>\n",
       "      <th>1</th>\n",
       "      <td>7.055471</td>\n",
       "      <td>6.297752</td>\n",
       "      <td>7.563771</td>\n",
       "      <td>4.911156</td>\n",
       "      <td>6.279219</td>\n",
       "      <td>8.261658</td>\n",
       "      <td>7.600303</td>\n",
       "      <td>NaN</td>\n",
       "      <td>NaN</td>\n",
       "      <td>NaN</td>\n",
       "      <td>...</td>\n",
       "      <td>0.583937</td>\n",
       "      <td>0.654297</td>\n",
       "      <td>0.500688</td>\n",
       "      <td>0.663226</td>\n",
       "      <td>0.649799</td>\n",
       "      <td>0.676015</td>\n",
       "      <td>NaN</td>\n",
       "      <td>NaN</td>\n",
       "      <td>NaN</td>\n",
       "      <td>2</td>\n",
       "    </tr>\n",
       "    <tr>\n",
       "      <th>2</th>\n",
       "      <td>6.474343</td>\n",
       "      <td>5.893474</td>\n",
       "      <td>6.712471</td>\n",
       "      <td>4.103274</td>\n",
       "      <td>4.880681</td>\n",
       "      <td>7.145757</td>\n",
       "      <td>6.512111</td>\n",
       "      <td>NaN</td>\n",
       "      <td>NaN</td>\n",
       "      <td>NaN</td>\n",
       "      <td>...</td>\n",
       "      <td>0.543241</td>\n",
       "      <td>0.575311</td>\n",
       "      <td>0.415578</td>\n",
       "      <td>0.512337</td>\n",
       "      <td>0.553865</td>\n",
       "      <td>0.573560</td>\n",
       "      <td>NaN</td>\n",
       "      <td>NaN</td>\n",
       "      <td>NaN</td>\n",
       "      <td>3</td>\n",
       "    </tr>\n",
       "  </tbody>\n",
       "</table>\n",
       "<p>3 rows × 21 columns</p>\n",
       "</div>"
      ],
      "text/plain": [
       "   column_euc_0  column_euc_1  column_euc_2  column_euc_3  column_euc_4  \\\n",
       "0      8.731496      7.767769      8.243154      7.935379      7.735842   \n",
       "1      7.055471      6.297752      7.563771      4.911156      6.279219   \n",
       "2      6.474343      5.893474      6.712471      4.103274      4.880681   \n",
       "\n",
       "   column_euc_5  column_euc_6  column_euc_7  column_euc_8  column_euc_9  ...  \\\n",
       "0      4.640070      8.041734           NaN           NaN           NaN  ...   \n",
       "1      8.261658      7.600303           NaN           NaN           NaN  ...   \n",
       "2      7.145757      6.512111           NaN           NaN           NaN  ...   \n",
       "\n",
       "   column_cos_1  column_cos_2  column_cos_3  column_cos_4  column_cos_5  \\\n",
       "0      0.615715      0.616862      0.676589      0.675969      0.317759   \n",
       "1      0.583937      0.654297      0.500688      0.663226      0.649799   \n",
       "2      0.543241      0.575311      0.415578      0.512337      0.553865   \n",
       "\n",
       "   column_cos_6  column_cos_7  column_cos_8  column_cos_9  target  \n",
       "0      0.614743           NaN           NaN           NaN       5  \n",
       "1      0.676015           NaN           NaN           NaN       2  \n",
       "2      0.573560           NaN           NaN           NaN       3  \n",
       "\n",
       "[3 rows x 21 columns]"
      ]
     },
     "execution_count": 38,
     "metadata": {},
     "output_type": "execute_result"
    }
   ],
   "source": [
    "train.head(3)"
   ]
  },
  {
   "cell_type": "code",
   "execution_count": 39,
   "id": "8c508b90",
   "metadata": {},
   "outputs": [
    {
     "data": {
      "text/plain": [
       "(85129, 21)"
      ]
     },
     "execution_count": 39,
     "metadata": {},
     "output_type": "execute_result"
    }
   ],
   "source": [
    "train.shape"
   ]
  },
  {
   "cell_type": "code",
   "execution_count": 40,
   "id": "d71202a3",
   "metadata": {},
   "outputs": [
    {
     "data": {
      "text/html": [
       "<div>\n",
       "<style scoped>\n",
       "    .dataframe tbody tr th:only-of-type {\n",
       "        vertical-align: middle;\n",
       "    }\n",
       "\n",
       "    .dataframe tbody tr th {\n",
       "        vertical-align: top;\n",
       "    }\n",
       "\n",
       "    .dataframe thead th {\n",
       "        text-align: right;\n",
       "    }\n",
       "</style>\n",
       "<table border=\"1\" class=\"dataframe\">\n",
       "  <thead>\n",
       "    <tr style=\"text-align: right;\">\n",
       "      <th></th>\n",
       "      <th>0</th>\n",
       "      <th>1</th>\n",
       "      <th>2</th>\n",
       "    </tr>\n",
       "  </thead>\n",
       "  <tbody>\n",
       "    <tr>\n",
       "      <th>column_euc_0</th>\n",
       "      <td>8.731496</td>\n",
       "      <td>7.055471</td>\n",
       "      <td>6.474343</td>\n",
       "    </tr>\n",
       "    <tr>\n",
       "      <th>column_euc_1</th>\n",
       "      <td>7.767769</td>\n",
       "      <td>6.297752</td>\n",
       "      <td>5.893474</td>\n",
       "    </tr>\n",
       "    <tr>\n",
       "      <th>column_euc_2</th>\n",
       "      <td>8.243154</td>\n",
       "      <td>7.563771</td>\n",
       "      <td>6.712471</td>\n",
       "    </tr>\n",
       "    <tr>\n",
       "      <th>column_euc_3</th>\n",
       "      <td>7.935379</td>\n",
       "      <td>4.911156</td>\n",
       "      <td>4.103274</td>\n",
       "    </tr>\n",
       "    <tr>\n",
       "      <th>column_euc_4</th>\n",
       "      <td>7.735842</td>\n",
       "      <td>6.279219</td>\n",
       "      <td>4.880681</td>\n",
       "    </tr>\n",
       "    <tr>\n",
       "      <th>column_euc_5</th>\n",
       "      <td>4.640070</td>\n",
       "      <td>8.261658</td>\n",
       "      <td>7.145757</td>\n",
       "    </tr>\n",
       "    <tr>\n",
       "      <th>column_euc_6</th>\n",
       "      <td>8.041734</td>\n",
       "      <td>7.600303</td>\n",
       "      <td>6.512111</td>\n",
       "    </tr>\n",
       "    <tr>\n",
       "      <th>column_euc_7</th>\n",
       "      <td>NaN</td>\n",
       "      <td>NaN</td>\n",
       "      <td>NaN</td>\n",
       "    </tr>\n",
       "    <tr>\n",
       "      <th>column_euc_8</th>\n",
       "      <td>NaN</td>\n",
       "      <td>NaN</td>\n",
       "      <td>NaN</td>\n",
       "    </tr>\n",
       "    <tr>\n",
       "      <th>column_euc_9</th>\n",
       "      <td>NaN</td>\n",
       "      <td>NaN</td>\n",
       "      <td>NaN</td>\n",
       "    </tr>\n",
       "    <tr>\n",
       "      <th>column_cos_0</th>\n",
       "      <td>0.748325</td>\n",
       "      <td>0.726454</td>\n",
       "      <td>0.663030</td>\n",
       "    </tr>\n",
       "    <tr>\n",
       "      <th>column_cos_1</th>\n",
       "      <td>0.615715</td>\n",
       "      <td>0.583937</td>\n",
       "      <td>0.543241</td>\n",
       "    </tr>\n",
       "    <tr>\n",
       "      <th>column_cos_2</th>\n",
       "      <td>0.616862</td>\n",
       "      <td>0.654297</td>\n",
       "      <td>0.575311</td>\n",
       "    </tr>\n",
       "    <tr>\n",
       "      <th>column_cos_3</th>\n",
       "      <td>0.676589</td>\n",
       "      <td>0.500688</td>\n",
       "      <td>0.415578</td>\n",
       "    </tr>\n",
       "    <tr>\n",
       "      <th>column_cos_4</th>\n",
       "      <td>0.675969</td>\n",
       "      <td>0.663226</td>\n",
       "      <td>0.512337</td>\n",
       "    </tr>\n",
       "    <tr>\n",
       "      <th>column_cos_5</th>\n",
       "      <td>0.317759</td>\n",
       "      <td>0.649799</td>\n",
       "      <td>0.553865</td>\n",
       "    </tr>\n",
       "    <tr>\n",
       "      <th>column_cos_6</th>\n",
       "      <td>0.614743</td>\n",
       "      <td>0.676015</td>\n",
       "      <td>0.573560</td>\n",
       "    </tr>\n",
       "    <tr>\n",
       "      <th>column_cos_7</th>\n",
       "      <td>NaN</td>\n",
       "      <td>NaN</td>\n",
       "      <td>NaN</td>\n",
       "    </tr>\n",
       "    <tr>\n",
       "      <th>column_cos_8</th>\n",
       "      <td>NaN</td>\n",
       "      <td>NaN</td>\n",
       "      <td>NaN</td>\n",
       "    </tr>\n",
       "    <tr>\n",
       "      <th>column_cos_9</th>\n",
       "      <td>NaN</td>\n",
       "      <td>NaN</td>\n",
       "      <td>NaN</td>\n",
       "    </tr>\n",
       "    <tr>\n",
       "      <th>target</th>\n",
       "      <td>5.000000</td>\n",
       "      <td>2.000000</td>\n",
       "      <td>3.000000</td>\n",
       "    </tr>\n",
       "  </tbody>\n",
       "</table>\n",
       "</div>"
      ],
      "text/plain": [
       "                     0         1         2\n",
       "column_euc_0  8.731496  7.055471  6.474343\n",
       "column_euc_1  7.767769  6.297752  5.893474\n",
       "column_euc_2  8.243154  7.563771  6.712471\n",
       "column_euc_3  7.935379  4.911156  4.103274\n",
       "column_euc_4  7.735842  6.279219  4.880681\n",
       "column_euc_5  4.640070  8.261658  7.145757\n",
       "column_euc_6  8.041734  7.600303  6.512111\n",
       "column_euc_7       NaN       NaN       NaN\n",
       "column_euc_8       NaN       NaN       NaN\n",
       "column_euc_9       NaN       NaN       NaN\n",
       "column_cos_0  0.748325  0.726454  0.663030\n",
       "column_cos_1  0.615715  0.583937  0.543241\n",
       "column_cos_2  0.616862  0.654297  0.575311\n",
       "column_cos_3  0.676589  0.500688  0.415578\n",
       "column_cos_4  0.675969  0.663226  0.512337\n",
       "column_cos_5  0.317759  0.649799  0.553865\n",
       "column_cos_6  0.614743  0.676015  0.573560\n",
       "column_cos_7       NaN       NaN       NaN\n",
       "column_cos_8       NaN       NaN       NaN\n",
       "column_cos_9       NaN       NaN       NaN\n",
       "target        5.000000  2.000000  3.000000"
      ]
     },
     "execution_count": 40,
     "metadata": {},
     "output_type": "execute_result"
    }
   ],
   "source": [
    "train.head(3).transpose()"
   ]
  },
  {
   "cell_type": "code",
   "execution_count": null,
   "id": "496b6407",
   "metadata": {},
   "outputs": [],
   "source": []
  },
  {
   "cell_type": "markdown",
   "id": "02e10395",
   "metadata": {},
   "source": [
    "## Fitting Multinomial Logistic Regression"
   ]
  },
  {
   "cell_type": "markdown",
   "id": "00da8875",
   "metadata": {},
   "source": [
    "### Standardize"
   ]
  },
  {
   "cell_type": "code",
   "execution_count": 41,
   "id": "2f7faf34",
   "metadata": {},
   "outputs": [
    {
     "data": {
      "text/plain": [
       "column_euc_0    32.503560\n",
       "column_euc_1    30.244087\n",
       "column_euc_2    29.838234\n",
       "column_euc_3    27.500748\n",
       "column_euc_4    28.242474\n",
       "column_euc_5    25.417771\n",
       "column_euc_6    28.922787\n",
       "column_euc_7          NaN\n",
       "column_euc_8          NaN\n",
       "column_euc_9          NaN\n",
       "column_cos_0     1.524448\n",
       "column_cos_1     1.512856\n",
       "column_cos_2     1.481605\n",
       "column_cos_3     1.424789\n",
       "column_cos_4     1.468127\n",
       "column_cos_5     1.380353\n",
       "column_cos_6     1.447956\n",
       "column_cos_7          NaN\n",
       "column_cos_8          NaN\n",
       "column_cos_9          NaN\n",
       "target           9.000000\n",
       "dtype: float64"
      ]
     },
     "execution_count": 41,
     "metadata": {},
     "output_type": "execute_result"
    }
   ],
   "source": [
    "train.apply(max, axis = 0)"
   ]
  },
  {
   "cell_type": "markdown",
   "id": "0ef1db31",
   "metadata": {},
   "source": [
    "## Replace NaN of Euclidean distance with 60 and of Cosine similarity with 1 :"
   ]
  },
  {
   "cell_type": "code",
   "execution_count": 42,
   "id": "a0d7ea73",
   "metadata": {},
   "outputs": [],
   "source": [
    "subset1 = train.iloc[:,:10].fillna(60)\n",
    "subset2 = train.iloc[:,10:].fillna(1)"
   ]
  },
  {
   "cell_type": "code",
   "execution_count": 43,
   "id": "01c16a7f",
   "metadata": {},
   "outputs": [
    {
     "data": {
      "text/html": [
       "<div>\n",
       "<style scoped>\n",
       "    .dataframe tbody tr th:only-of-type {\n",
       "        vertical-align: middle;\n",
       "    }\n",
       "\n",
       "    .dataframe tbody tr th {\n",
       "        vertical-align: top;\n",
       "    }\n",
       "\n",
       "    .dataframe thead th {\n",
       "        text-align: right;\n",
       "    }\n",
       "</style>\n",
       "<table border=\"1\" class=\"dataframe\">\n",
       "  <thead>\n",
       "    <tr style=\"text-align: right;\">\n",
       "      <th></th>\n",
       "      <th>column_euc_0</th>\n",
       "      <th>column_euc_1</th>\n",
       "      <th>column_euc_2</th>\n",
       "      <th>column_euc_3</th>\n",
       "      <th>column_euc_4</th>\n",
       "      <th>column_euc_5</th>\n",
       "      <th>column_euc_6</th>\n",
       "      <th>column_euc_7</th>\n",
       "      <th>column_euc_8</th>\n",
       "      <th>column_euc_9</th>\n",
       "    </tr>\n",
       "  </thead>\n",
       "  <tbody>\n",
       "    <tr>\n",
       "      <th>0</th>\n",
       "      <td>8.731496</td>\n",
       "      <td>7.767769</td>\n",
       "      <td>8.243154</td>\n",
       "      <td>7.935379</td>\n",
       "      <td>7.735842</td>\n",
       "      <td>4.640070</td>\n",
       "      <td>8.041734</td>\n",
       "      <td>60.0</td>\n",
       "      <td>60.0</td>\n",
       "      <td>60.0</td>\n",
       "    </tr>\n",
       "    <tr>\n",
       "      <th>1</th>\n",
       "      <td>7.055471</td>\n",
       "      <td>6.297752</td>\n",
       "      <td>7.563771</td>\n",
       "      <td>4.911156</td>\n",
       "      <td>6.279219</td>\n",
       "      <td>8.261658</td>\n",
       "      <td>7.600303</td>\n",
       "      <td>60.0</td>\n",
       "      <td>60.0</td>\n",
       "      <td>60.0</td>\n",
       "    </tr>\n",
       "    <tr>\n",
       "      <th>2</th>\n",
       "      <td>6.474343</td>\n",
       "      <td>5.893474</td>\n",
       "      <td>6.712471</td>\n",
       "      <td>4.103274</td>\n",
       "      <td>4.880681</td>\n",
       "      <td>7.145757</td>\n",
       "      <td>6.512111</td>\n",
       "      <td>60.0</td>\n",
       "      <td>60.0</td>\n",
       "      <td>60.0</td>\n",
       "    </tr>\n",
       "  </tbody>\n",
       "</table>\n",
       "</div>"
      ],
      "text/plain": [
       "   column_euc_0  column_euc_1  column_euc_2  column_euc_3  column_euc_4  \\\n",
       "0      8.731496      7.767769      8.243154      7.935379      7.735842   \n",
       "1      7.055471      6.297752      7.563771      4.911156      6.279219   \n",
       "2      6.474343      5.893474      6.712471      4.103274      4.880681   \n",
       "\n",
       "   column_euc_5  column_euc_6  column_euc_7  column_euc_8  column_euc_9  \n",
       "0      4.640070      8.041734          60.0          60.0          60.0  \n",
       "1      8.261658      7.600303          60.0          60.0          60.0  \n",
       "2      7.145757      6.512111          60.0          60.0          60.0  "
      ]
     },
     "execution_count": 43,
     "metadata": {},
     "output_type": "execute_result"
    }
   ],
   "source": [
    "subset1.head(3)"
   ]
  },
  {
   "cell_type": "code",
   "execution_count": 44,
   "id": "88a87e33",
   "metadata": {},
   "outputs": [
    {
     "data": {
      "text/html": [
       "<div>\n",
       "<style scoped>\n",
       "    .dataframe tbody tr th:only-of-type {\n",
       "        vertical-align: middle;\n",
       "    }\n",
       "\n",
       "    .dataframe tbody tr th {\n",
       "        vertical-align: top;\n",
       "    }\n",
       "\n",
       "    .dataframe thead th {\n",
       "        text-align: right;\n",
       "    }\n",
       "</style>\n",
       "<table border=\"1\" class=\"dataframe\">\n",
       "  <thead>\n",
       "    <tr style=\"text-align: right;\">\n",
       "      <th></th>\n",
       "      <th>column_cos_0</th>\n",
       "      <th>column_cos_1</th>\n",
       "      <th>column_cos_2</th>\n",
       "      <th>column_cos_3</th>\n",
       "      <th>column_cos_4</th>\n",
       "      <th>column_cos_5</th>\n",
       "      <th>column_cos_6</th>\n",
       "      <th>column_cos_7</th>\n",
       "      <th>column_cos_8</th>\n",
       "      <th>column_cos_9</th>\n",
       "      <th>target</th>\n",
       "    </tr>\n",
       "  </thead>\n",
       "  <tbody>\n",
       "    <tr>\n",
       "      <th>0</th>\n",
       "      <td>0.748325</td>\n",
       "      <td>0.615715</td>\n",
       "      <td>0.616862</td>\n",
       "      <td>0.676589</td>\n",
       "      <td>0.675969</td>\n",
       "      <td>0.317759</td>\n",
       "      <td>0.614743</td>\n",
       "      <td>1.0</td>\n",
       "      <td>1.0</td>\n",
       "      <td>1.0</td>\n",
       "      <td>5</td>\n",
       "    </tr>\n",
       "    <tr>\n",
       "      <th>1</th>\n",
       "      <td>0.726454</td>\n",
       "      <td>0.583937</td>\n",
       "      <td>0.654297</td>\n",
       "      <td>0.500688</td>\n",
       "      <td>0.663226</td>\n",
       "      <td>0.649799</td>\n",
       "      <td>0.676015</td>\n",
       "      <td>1.0</td>\n",
       "      <td>1.0</td>\n",
       "      <td>1.0</td>\n",
       "      <td>2</td>\n",
       "    </tr>\n",
       "    <tr>\n",
       "      <th>2</th>\n",
       "      <td>0.663030</td>\n",
       "      <td>0.543241</td>\n",
       "      <td>0.575311</td>\n",
       "      <td>0.415578</td>\n",
       "      <td>0.512337</td>\n",
       "      <td>0.553865</td>\n",
       "      <td>0.573560</td>\n",
       "      <td>1.0</td>\n",
       "      <td>1.0</td>\n",
       "      <td>1.0</td>\n",
       "      <td>3</td>\n",
       "    </tr>\n",
       "  </tbody>\n",
       "</table>\n",
       "</div>"
      ],
      "text/plain": [
       "   column_cos_0  column_cos_1  column_cos_2  column_cos_3  column_cos_4  \\\n",
       "0      0.748325      0.615715      0.616862      0.676589      0.675969   \n",
       "1      0.726454      0.583937      0.654297      0.500688      0.663226   \n",
       "2      0.663030      0.543241      0.575311      0.415578      0.512337   \n",
       "\n",
       "   column_cos_5  column_cos_6  column_cos_7  column_cos_8  column_cos_9  \\\n",
       "0      0.317759      0.614743           1.0           1.0           1.0   \n",
       "1      0.649799      0.676015           1.0           1.0           1.0   \n",
       "2      0.553865      0.573560           1.0           1.0           1.0   \n",
       "\n",
       "   target  \n",
       "0       5  \n",
       "1       2  \n",
       "2       3  "
      ]
     },
     "execution_count": 44,
     "metadata": {},
     "output_type": "execute_result"
    }
   ],
   "source": [
    " subset2.head(3)"
   ]
  },
  {
   "cell_type": "code",
   "execution_count": 45,
   "id": "34d5ab69",
   "metadata": {},
   "outputs": [],
   "source": [
    "train2 = pd.concat([subset1, subset2], axis=1)\n",
    "train2 = train2.reindex(subset1.index)"
   ]
  },
  {
   "cell_type": "code",
   "execution_count": 46,
   "id": "88b59784",
   "metadata": {},
   "outputs": [
    {
     "data": {
      "text/html": [
       "<div>\n",
       "<style scoped>\n",
       "    .dataframe tbody tr th:only-of-type {\n",
       "        vertical-align: middle;\n",
       "    }\n",
       "\n",
       "    .dataframe tbody tr th {\n",
       "        vertical-align: top;\n",
       "    }\n",
       "\n",
       "    .dataframe thead th {\n",
       "        text-align: right;\n",
       "    }\n",
       "</style>\n",
       "<table border=\"1\" class=\"dataframe\">\n",
       "  <thead>\n",
       "    <tr style=\"text-align: right;\">\n",
       "      <th></th>\n",
       "      <th>column_euc_0</th>\n",
       "      <th>column_euc_1</th>\n",
       "      <th>column_euc_2</th>\n",
       "      <th>column_euc_3</th>\n",
       "      <th>column_euc_4</th>\n",
       "      <th>column_euc_5</th>\n",
       "      <th>column_euc_6</th>\n",
       "      <th>column_euc_7</th>\n",
       "      <th>column_euc_8</th>\n",
       "      <th>column_euc_9</th>\n",
       "      <th>...</th>\n",
       "      <th>column_cos_1</th>\n",
       "      <th>column_cos_2</th>\n",
       "      <th>column_cos_3</th>\n",
       "      <th>column_cos_4</th>\n",
       "      <th>column_cos_5</th>\n",
       "      <th>column_cos_6</th>\n",
       "      <th>column_cos_7</th>\n",
       "      <th>column_cos_8</th>\n",
       "      <th>column_cos_9</th>\n",
       "      <th>target</th>\n",
       "    </tr>\n",
       "  </thead>\n",
       "  <tbody>\n",
       "    <tr>\n",
       "      <th>0</th>\n",
       "      <td>8.731496</td>\n",
       "      <td>7.767769</td>\n",
       "      <td>8.243154</td>\n",
       "      <td>7.935379</td>\n",
       "      <td>7.735842</td>\n",
       "      <td>4.640070</td>\n",
       "      <td>8.041734</td>\n",
       "      <td>60.0</td>\n",
       "      <td>60.0</td>\n",
       "      <td>60.0</td>\n",
       "      <td>...</td>\n",
       "      <td>0.615715</td>\n",
       "      <td>0.616862</td>\n",
       "      <td>0.676589</td>\n",
       "      <td>0.675969</td>\n",
       "      <td>0.317759</td>\n",
       "      <td>0.614743</td>\n",
       "      <td>1.0</td>\n",
       "      <td>1.0</td>\n",
       "      <td>1.0</td>\n",
       "      <td>5</td>\n",
       "    </tr>\n",
       "    <tr>\n",
       "      <th>1</th>\n",
       "      <td>7.055471</td>\n",
       "      <td>6.297752</td>\n",
       "      <td>7.563771</td>\n",
       "      <td>4.911156</td>\n",
       "      <td>6.279219</td>\n",
       "      <td>8.261658</td>\n",
       "      <td>7.600303</td>\n",
       "      <td>60.0</td>\n",
       "      <td>60.0</td>\n",
       "      <td>60.0</td>\n",
       "      <td>...</td>\n",
       "      <td>0.583937</td>\n",
       "      <td>0.654297</td>\n",
       "      <td>0.500688</td>\n",
       "      <td>0.663226</td>\n",
       "      <td>0.649799</td>\n",
       "      <td>0.676015</td>\n",
       "      <td>1.0</td>\n",
       "      <td>1.0</td>\n",
       "      <td>1.0</td>\n",
       "      <td>2</td>\n",
       "    </tr>\n",
       "    <tr>\n",
       "      <th>2</th>\n",
       "      <td>6.474343</td>\n",
       "      <td>5.893474</td>\n",
       "      <td>6.712471</td>\n",
       "      <td>4.103274</td>\n",
       "      <td>4.880681</td>\n",
       "      <td>7.145757</td>\n",
       "      <td>6.512111</td>\n",
       "      <td>60.0</td>\n",
       "      <td>60.0</td>\n",
       "      <td>60.0</td>\n",
       "      <td>...</td>\n",
       "      <td>0.543241</td>\n",
       "      <td>0.575311</td>\n",
       "      <td>0.415578</td>\n",
       "      <td>0.512337</td>\n",
       "      <td>0.553865</td>\n",
       "      <td>0.573560</td>\n",
       "      <td>1.0</td>\n",
       "      <td>1.0</td>\n",
       "      <td>1.0</td>\n",
       "      <td>3</td>\n",
       "    </tr>\n",
       "  </tbody>\n",
       "</table>\n",
       "<p>3 rows × 21 columns</p>\n",
       "</div>"
      ],
      "text/plain": [
       "   column_euc_0  column_euc_1  column_euc_2  column_euc_3  column_euc_4  \\\n",
       "0      8.731496      7.767769      8.243154      7.935379      7.735842   \n",
       "1      7.055471      6.297752      7.563771      4.911156      6.279219   \n",
       "2      6.474343      5.893474      6.712471      4.103274      4.880681   \n",
       "\n",
       "   column_euc_5  column_euc_6  column_euc_7  column_euc_8  column_euc_9  ...  \\\n",
       "0      4.640070      8.041734          60.0          60.0          60.0  ...   \n",
       "1      8.261658      7.600303          60.0          60.0          60.0  ...   \n",
       "2      7.145757      6.512111          60.0          60.0          60.0  ...   \n",
       "\n",
       "   column_cos_1  column_cos_2  column_cos_3  column_cos_4  column_cos_5  \\\n",
       "0      0.615715      0.616862      0.676589      0.675969      0.317759   \n",
       "1      0.583937      0.654297      0.500688      0.663226      0.649799   \n",
       "2      0.543241      0.575311      0.415578      0.512337      0.553865   \n",
       "\n",
       "   column_cos_6  column_cos_7  column_cos_8  column_cos_9  target  \n",
       "0      0.614743           1.0           1.0           1.0       5  \n",
       "1      0.676015           1.0           1.0           1.0       2  \n",
       "2      0.573560           1.0           1.0           1.0       3  \n",
       "\n",
       "[3 rows x 21 columns]"
      ]
     },
     "execution_count": 46,
     "metadata": {},
     "output_type": "execute_result"
    }
   ],
   "source": [
    "train2.head(3)"
   ]
  },
  {
   "cell_type": "code",
   "execution_count": 47,
   "id": "69ff2bfa",
   "metadata": {},
   "outputs": [
    {
     "data": {
      "text/plain": [
       "column_euc_0    32.503560\n",
       "column_euc_1    60.000000\n",
       "column_euc_2    60.000000\n",
       "column_euc_3    60.000000\n",
       "column_euc_4    60.000000\n",
       "column_euc_5    60.000000\n",
       "column_euc_6    60.000000\n",
       "column_euc_7    60.000000\n",
       "column_euc_8    60.000000\n",
       "column_euc_9    60.000000\n",
       "column_cos_0     1.524448\n",
       "column_cos_1     1.512856\n",
       "column_cos_2     1.481605\n",
       "column_cos_3     1.424789\n",
       "column_cos_4     1.468127\n",
       "column_cos_5     1.380353\n",
       "column_cos_6     1.447956\n",
       "column_cos_7     1.391503\n",
       "column_cos_8     1.351021\n",
       "column_cos_9     1.183319\n",
       "target           9.000000\n",
       "dtype: float64"
      ]
     },
     "execution_count": 47,
     "metadata": {},
     "output_type": "execute_result"
    }
   ],
   "source": [
    "train2.apply(max, axis = 0)"
   ]
  },
  {
   "cell_type": "code",
   "execution_count": 48,
   "id": "ad92757d",
   "metadata": {},
   "outputs": [],
   "source": [
    "scaler = MinMaxScaler()\n",
    "X = scaler.fit_transform(train2.iloc[:,:-1])"
   ]
  },
  {
   "cell_type": "code",
   "execution_count": 49,
   "id": "9e702cc1",
   "metadata": {},
   "outputs": [
    {
     "data": {
      "text/plain": [
       "array([[0.23175121, 0.10455141, 0.11096877, ..., 0.71864748, 0.7401808 ,\n",
       "        0.84508039],\n",
       "       [0.1775866 , 0.07935003, 0.09929896, ..., 0.71864748, 0.7401808 ,\n",
       "        0.84508039],\n",
       "       [0.15880614, 0.07241923, 0.08467611, ..., 0.71864748, 0.7401808 ,\n",
       "        0.84508039],\n",
       "       ...,\n",
       "       [0.15735495, 0.09185244, 0.10064329, ..., 0.71864748, 0.7401808 ,\n",
       "        0.84508039],\n",
       "       [0.16715256, 0.07895006, 0.09947991, ..., 0.71864748, 0.7401808 ,\n",
       "        0.84508039],\n",
       "       [0.25125221, 0.12124778, 0.16662005, ..., 0.71864748, 0.7401808 ,\n",
       "        0.84508039]])"
      ]
     },
     "execution_count": 49,
     "metadata": {},
     "output_type": "execute_result"
    }
   ],
   "source": [
    "X"
   ]
  },
  {
   "cell_type": "markdown",
   "id": "4d5f2e6f",
   "metadata": {},
   "source": [
    "### Train-test split :"
   ]
  },
  {
   "cell_type": "code",
   "execution_count": 50,
   "id": "aaab64ad",
   "metadata": {},
   "outputs": [],
   "source": [
    "train_x, test_x, train_y, test_y = train_test_split(X,\n",
    "train.iloc[:,-1], train_size=0.8, random_state = 5)"
   ]
  },
  {
   "cell_type": "markdown",
   "id": "3e65addc",
   "metadata": {},
   "source": [
    "### Train_x consists of Euclidean distances and cosine similarities of each question-context pair :"
   ]
  },
  {
   "cell_type": "code",
   "execution_count": 51,
   "id": "c98c313e",
   "metadata": {},
   "outputs": [
    {
     "data": {
      "text/plain": [
       "array([[0.18229271, 0.09514955, 0.08312137, ..., 0.71864748, 0.7401808 ,\n",
       "        0.84508039],\n",
       "       [0.26908418, 0.13444728, 0.10019235, ..., 0.71864748, 0.7401808 ,\n",
       "        0.84508039],\n",
       "       [0.33275775, 0.10497898, 0.11312171, ..., 0.71864748, 0.7401808 ,\n",
       "        0.84508039],\n",
       "       ...,\n",
       "       [0.19970291, 0.12266808, 0.14424258, ..., 0.71864748, 0.7401808 ,\n",
       "        0.84508039],\n",
       "       [0.10196813, 1.        , 1.        , ..., 0.71864748, 0.7401808 ,\n",
       "        0.84508039],\n",
       "       [0.28535632, 0.14244074, 0.13023796, ..., 0.71864748, 0.7401808 ,\n",
       "        0.84508039]])"
      ]
     },
     "execution_count": 51,
     "metadata": {},
     "output_type": "execute_result"
    }
   ],
   "source": [
    "train_x"
   ]
  },
  {
   "cell_type": "markdown",
   "id": "ad6251b0",
   "metadata": {},
   "source": [
    "### Train_y consists of target line no. that should be the answer to the question in the corresponding context :"
   ]
  },
  {
   "cell_type": "code",
   "execution_count": 52,
   "id": "d8fd4826",
   "metadata": {},
   "outputs": [
    {
     "data": {
      "text/plain": [
       "295      2\n",
       "1551     0\n",
       "1610     0\n",
       "5579     0\n",
       "16167    0\n",
       "        ..\n",
       "59465    0\n",
       "5520     3\n",
       "20463    1\n",
       "18638    0\n",
       "35683    0\n",
       "Name: target, Length: 68103, dtype: int64"
      ]
     },
     "execution_count": 52,
     "metadata": {},
     "output_type": "execute_result"
    }
   ],
   "source": [
    "train_y"
   ]
  },
  {
   "cell_type": "code",
   "execution_count": null,
   "id": "590b12ef",
   "metadata": {},
   "outputs": [],
   "source": []
  },
  {
   "cell_type": "code",
   "execution_count": 53,
   "id": "c5eafbcc",
   "metadata": {},
   "outputs": [
    {
     "name": "stdout",
     "output_type": "stream",
     "text": [
      "Multinomial Logistic regression Train Accuracy :  0.5734402302394902\n",
      "Multinomial Logistic regression Test Accuracy :  0.5757664748032421\n"
     ]
    }
   ],
   "source": [
    "mul_lr = linear_model.LogisticRegression(multi_class='multinomial', solver='newton-cg')\n",
    "mul_lr.fit(train_x, train_y)\n",
    "\n",
    "print(\"Multinomial Logistic regression Train Accuracy : \", metrics.accuracy_score(train_y, mul_lr.predict(train_x)))\n",
    "print(\"Multinomial Logistic regression Test Accuracy : \", metrics.accuracy_score(test_y, mul_lr.predict(test_x)))"
   ]
  },
  {
   "cell_type": "markdown",
   "id": "eb5e1565",
   "metadata": {},
   "source": [
    "## Random Forest"
   ]
  },
  {
   "cell_type": "code",
   "execution_count": 61,
   "id": "622e707c",
   "metadata": {
    "scrolled": true
   },
   "outputs": [
    {
     "name": "stdout",
     "output_type": "stream",
     "text": [
      "Random Forest Train Accuracy :  0.7607594379102243\n",
      "Random Forest Test Accuracy :  0.6491248678491719\n"
     ]
    }
   ],
   "source": [
    "rf = RandomForestClassifier(min_samples_leaf=8, n_estimators=60)\n",
    "rf.fit(train_x, train_y)\n",
    "\n",
    "print(\"Random Forest Train Accuracy : \", metrics.accuracy_score(train_y, rf.predict(train_x)))\n",
    "print(\"Random Forest Test Accuracy : \", metrics.accuracy_score(test_y, rf.predict(test_x)))"
   ]
  },
  {
   "cell_type": "markdown",
   "id": "ee6d835f",
   "metadata": {},
   "source": [
    "## XgBoost"
   ]
  },
  {
   "cell_type": "code",
   "execution_count": 58,
   "id": "d1f7d5d6",
   "metadata": {},
   "outputs": [
    {
     "name": "stdout",
     "output_type": "stream",
     "text": [
      "Fitting 3 folds for each of 27 candidates, totalling 81 fits\n",
      "[23:16:43] WARNING: D:\\Build\\xgboost\\xgboost-1.5.1.git\\src\\learner.cc:1115: Starting in XGBoost 1.3.0, the default evaluation metric used with the objective 'multi:softprob' was changed from 'merror' to 'mlogloss'. Explicitly set eval_metric if you'd like to restore the old behavior.\n"
     ]
    },
    {
     "data": {
      "text/plain": [
       "GridSearchCV(cv=3,\n",
       "             estimator=XGBClassifier(base_score=None, booster=None,\n",
       "                                     colsample_bylevel=None,\n",
       "                                     colsample_bynode=None,\n",
       "                                     colsample_bytree=None,\n",
       "                                     enable_categorical=False, gamma=None,\n",
       "                                     gpu_id=None, importance_type=None,\n",
       "                                     interaction_constraints=None,\n",
       "                                     learning_rate=None, max_delta_step=None,\n",
       "                                     max_depth=None, min_child_weight=None,\n",
       "                                     missing=nan, monotone_constraints=None,\n",
       "                                     n_estimators=100, n_jobs=None,\n",
       "                                     num_parallel_tree=None, predictor=None,\n",
       "                                     random_state=None, reg_alpha=None,\n",
       "                                     reg_lambda=None, scale_pos_weight=None,\n",
       "                                     subsample=None, tree_method=None,\n",
       "                                     validate_parameters=None, verbosity=None),\n",
       "             n_jobs=-1,\n",
       "             param_grid={'learning_rate': [0.07, 0.1, 0.2],\n",
       "                         'max_depth': [3, 5, 10],\n",
       "                         'min_child_weight': [1, 5, 10]},\n",
       "             verbose=5)"
      ]
     },
     "execution_count": 58,
     "metadata": {},
     "output_type": "execute_result"
    }
   ],
   "source": [
    "model = xgb.XGBClassifier()\n",
    "param_dist = {\"max_depth\": [3,5,10],\n",
    "              \"min_child_weight\" : [1,5,10],\n",
    "              \"learning_rate\": [0.07, 0.1,0.2],\n",
    "               }\n",
    "\n",
    "# run randomized search\n",
    "grid_search = GridSearchCV(model, param_grid=param_dist, cv = 3, \n",
    "                                   verbose=5, n_jobs=-1)\n",
    "grid_search.fit(train_x, train_y)"
   ]
  },
  {
   "cell_type": "code",
   "execution_count": 59,
   "id": "75446bda",
   "metadata": {},
   "outputs": [
    {
     "data": {
      "text/plain": [
       "XGBClassifier(base_score=0.5, booster='gbtree', colsample_bylevel=1,\n",
       "              colsample_bynode=1, colsample_bytree=1, enable_categorical=False,\n",
       "              gamma=0, gpu_id=-1, importance_type=None,\n",
       "              interaction_constraints='', learning_rate=0.2, max_delta_step=0,\n",
       "              max_depth=5, min_child_weight=1, missing=nan,\n",
       "              monotone_constraints='()', n_estimators=100, n_jobs=8,\n",
       "              num_parallel_tree=1, objective='multi:softprob', predictor='auto',\n",
       "              random_state=0, reg_alpha=0, reg_lambda=1, scale_pos_weight=None,\n",
       "              subsample=1, tree_method='exact', validate_parameters=1,\n",
       "              verbosity=None)"
      ]
     },
     "execution_count": 59,
     "metadata": {},
     "output_type": "execute_result"
    }
   ],
   "source": [
    "grid_search.best_estimator_"
   ]
  },
  {
   "cell_type": "code",
   "execution_count": 60,
   "id": "de2e3d0e",
   "metadata": {},
   "outputs": [
    {
     "name": "stdout",
     "output_type": "stream",
     "text": [
      "[23:20:29] WARNING: D:\\Build\\xgboost\\xgboost-1.5.1.git\\src\\learner.cc:1115: Starting in XGBoost 1.3.0, the default evaluation metric used with the objective 'multi:softprob' was changed from 'merror' to 'mlogloss'. Explicitly set eval_metric if you'd like to restore the old behavior.\n",
      "XG_Boost Train Accuracy :  0.7469274481300383\n",
      "XG_Boost Test Accuracy :  0.678432984846705\n"
     ]
    }
   ],
   "source": [
    "xg = xgb.XGBClassifier(max_depth=5)\n",
    "xg.fit(train_x, train_y)\n",
    "\n",
    "print(\"XG_Boost Train Accuracy : \", metrics.accuracy_score(train_y, xg.predict(train_x)))\n",
    "print(\"XG_Boost Test Accuracy : \", metrics.accuracy_score(test_y, xg.predict(test_x)))"
   ]
  },
  {
   "cell_type": "markdown",
   "id": "cba42e1f",
   "metadata": {},
   "source": [
    "# "
   ]
  },
  {
   "cell_type": "markdown",
   "id": "ad3c1d57",
   "metadata": {},
   "source": [
    "# So following is the summary of the above Experimentations :"
   ]
  },
  {
   "cell_type": "markdown",
   "id": "29deacb9",
   "metadata": {},
   "source": [
    "## For the case of Unsupervised techniques, Cosine similarity gives the best results than Euclidean distance method and Roots Match Method."
   ]
  },
  {
   "cell_type": "markdown",
   "id": "99081d63",
   "metadata": {},
   "source": [
    "## For the case of Supervised techniques, following are the results :\n",
    "### Multinomial Logistic regression Train Accuracy : 57.34%\n",
    "### Multinomial Logistic regression Test Accuracy :  57.57%\n",
    "###\n",
    "### Random Forest Train Accuracy : 76.07%\n",
    "### Random Forest Test Accuracy : 64.91%\n",
    "###\n",
    "### XG_Boost Train Accuracy : 74.69%\n",
    "### XG_Boost Test Accuracy : 67.84%"
   ]
  },
  {
   "cell_type": "markdown",
   "id": "b7a0eb4a",
   "metadata": {},
   "source": [
    "## The results that I got through these experimentations are satisfactory as the main aim was to learn generating a QA model using SQuAD dataset, so that I can replicate it on the 'Bhagwad Gita'. "
   ]
  },
  {
   "cell_type": "markdown",
   "id": "26e2fad6",
   "metadata": {},
   "source": [
    "## The next Mandate is the most Interesting Mandate, as I have tried to replicate the knowlegde from these experimentations on the 'Bhagwad Gita' dataset to predict the most relevant shlokas for any general question trained on the model."
   ]
  }
 ],
 "metadata": {
  "kernelspec": {
   "display_name": "Python 3 (ipykernel)",
   "language": "python",
   "name": "python3"
  },
  "language_info": {
   "codemirror_mode": {
    "name": "ipython",
    "version": 3
   },
   "file_extension": ".py",
   "mimetype": "text/x-python",
   "name": "python",
   "nbconvert_exporter": "python",
   "pygments_lexer": "ipython3",
   "version": "3.9.7"
  }
 },
 "nbformat": 4,
 "nbformat_minor": 5
}
